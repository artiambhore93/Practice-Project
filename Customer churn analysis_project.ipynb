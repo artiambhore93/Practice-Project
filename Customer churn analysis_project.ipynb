{
 "cells": [
  {
   "cell_type": "markdown",
   "id": "7258a7d9",
   "metadata": {},
   "source": [
    "# Customer Churn Analysis:"
   ]
  },
  {
   "cell_type": "markdown",
   "id": "cbef450e",
   "metadata": {},
   "source": [
    "Problem Statement:\n",
    "Customer churn is when a company’s customers stop doing business with that company. Businesses are very keen on measuring churn because keeping an existing customer is far less expensive than acquiring a new customer. New business involves working leads through a sales funnel, using marketing and sales budgets to gain additional customers. Existing customers will often have a higher volume of service consumption and can generate additional customer referrals.\n",
    "\n",
    "Customer retention can be achieved with good customer service and products. But the most effective way for a company to prevent attrition of customers is to truly know them. The vast volumes of data collected about customers can be used to build churn prediction models. Knowing who is most likely to defect means that a company can prioritise focused marketing efforts on that subset of their customer base.\n",
    "\n",
    "Preventing customer churn is critically important to the telecommunications sector, as the barriers to entry for switching services are so low. \n",
    "\n",
    "You will examine customer data from IBM Sample Data Sets with the aim of building and comparing several customer churn prediction models. "
   ]
  },
  {
   "cell_type": "code",
   "execution_count": 1,
   "id": "47677361",
   "metadata": {},
   "outputs": [],
   "source": [
    "import pandas as pd\n",
    "import numpy as np\n",
    "import seaborn as sns\n",
    "import matplotlib.pyplot as plt\n",
    "import warnings\n",
    "warnings.filterwarnings('ignore')"
   ]
  },
  {
   "cell_type": "markdown",
   "id": "b768d631",
   "metadata": {},
   "source": [
    "# Read csv data as dataframe(df):"
   ]
  },
  {
   "cell_type": "code",
   "execution_count": 2,
   "id": "22b6f882",
   "metadata": {},
   "outputs": [
    {
     "data": {
      "text/html": [
       "<div>\n",
       "<style scoped>\n",
       "    .dataframe tbody tr th:only-of-type {\n",
       "        vertical-align: middle;\n",
       "    }\n",
       "\n",
       "    .dataframe tbody tr th {\n",
       "        vertical-align: top;\n",
       "    }\n",
       "\n",
       "    .dataframe thead th {\n",
       "        text-align: right;\n",
       "    }\n",
       "</style>\n",
       "<table border=\"1\" class=\"dataframe\">\n",
       "  <thead>\n",
       "    <tr style=\"text-align: right;\">\n",
       "      <th></th>\n",
       "      <th>customerID</th>\n",
       "      <th>gender</th>\n",
       "      <th>SeniorCitizen</th>\n",
       "      <th>Partner</th>\n",
       "      <th>Dependents</th>\n",
       "      <th>tenure</th>\n",
       "      <th>PhoneService</th>\n",
       "      <th>MultipleLines</th>\n",
       "      <th>InternetService</th>\n",
       "      <th>OnlineSecurity</th>\n",
       "      <th>...</th>\n",
       "      <th>DeviceProtection</th>\n",
       "      <th>TechSupport</th>\n",
       "      <th>StreamingTV</th>\n",
       "      <th>StreamingMovies</th>\n",
       "      <th>Contract</th>\n",
       "      <th>PaperlessBilling</th>\n",
       "      <th>PaymentMethod</th>\n",
       "      <th>MonthlyCharges</th>\n",
       "      <th>TotalCharges</th>\n",
       "      <th>Churn</th>\n",
       "    </tr>\n",
       "  </thead>\n",
       "  <tbody>\n",
       "    <tr>\n",
       "      <th>0</th>\n",
       "      <td>7590-VHVEG</td>\n",
       "      <td>Female</td>\n",
       "      <td>0</td>\n",
       "      <td>Yes</td>\n",
       "      <td>No</td>\n",
       "      <td>1</td>\n",
       "      <td>No</td>\n",
       "      <td>No phone service</td>\n",
       "      <td>DSL</td>\n",
       "      <td>No</td>\n",
       "      <td>...</td>\n",
       "      <td>No</td>\n",
       "      <td>No</td>\n",
       "      <td>No</td>\n",
       "      <td>No</td>\n",
       "      <td>Month-to-month</td>\n",
       "      <td>Yes</td>\n",
       "      <td>Electronic check</td>\n",
       "      <td>29.85</td>\n",
       "      <td>29.85</td>\n",
       "      <td>No</td>\n",
       "    </tr>\n",
       "    <tr>\n",
       "      <th>1</th>\n",
       "      <td>5575-GNVDE</td>\n",
       "      <td>Male</td>\n",
       "      <td>0</td>\n",
       "      <td>No</td>\n",
       "      <td>No</td>\n",
       "      <td>34</td>\n",
       "      <td>Yes</td>\n",
       "      <td>No</td>\n",
       "      <td>DSL</td>\n",
       "      <td>Yes</td>\n",
       "      <td>...</td>\n",
       "      <td>Yes</td>\n",
       "      <td>No</td>\n",
       "      <td>No</td>\n",
       "      <td>No</td>\n",
       "      <td>One year</td>\n",
       "      <td>No</td>\n",
       "      <td>Mailed check</td>\n",
       "      <td>56.95</td>\n",
       "      <td>1889.5</td>\n",
       "      <td>No</td>\n",
       "    </tr>\n",
       "    <tr>\n",
       "      <th>2</th>\n",
       "      <td>3668-QPYBK</td>\n",
       "      <td>Male</td>\n",
       "      <td>0</td>\n",
       "      <td>No</td>\n",
       "      <td>No</td>\n",
       "      <td>2</td>\n",
       "      <td>Yes</td>\n",
       "      <td>No</td>\n",
       "      <td>DSL</td>\n",
       "      <td>Yes</td>\n",
       "      <td>...</td>\n",
       "      <td>No</td>\n",
       "      <td>No</td>\n",
       "      <td>No</td>\n",
       "      <td>No</td>\n",
       "      <td>Month-to-month</td>\n",
       "      <td>Yes</td>\n",
       "      <td>Mailed check</td>\n",
       "      <td>53.85</td>\n",
       "      <td>108.15</td>\n",
       "      <td>Yes</td>\n",
       "    </tr>\n",
       "    <tr>\n",
       "      <th>3</th>\n",
       "      <td>7795-CFOCW</td>\n",
       "      <td>Male</td>\n",
       "      <td>0</td>\n",
       "      <td>No</td>\n",
       "      <td>No</td>\n",
       "      <td>45</td>\n",
       "      <td>No</td>\n",
       "      <td>No phone service</td>\n",
       "      <td>DSL</td>\n",
       "      <td>Yes</td>\n",
       "      <td>...</td>\n",
       "      <td>Yes</td>\n",
       "      <td>Yes</td>\n",
       "      <td>No</td>\n",
       "      <td>No</td>\n",
       "      <td>One year</td>\n",
       "      <td>No</td>\n",
       "      <td>Bank transfer (automatic)</td>\n",
       "      <td>42.30</td>\n",
       "      <td>1840.75</td>\n",
       "      <td>No</td>\n",
       "    </tr>\n",
       "    <tr>\n",
       "      <th>4</th>\n",
       "      <td>9237-HQITU</td>\n",
       "      <td>Female</td>\n",
       "      <td>0</td>\n",
       "      <td>No</td>\n",
       "      <td>No</td>\n",
       "      <td>2</td>\n",
       "      <td>Yes</td>\n",
       "      <td>No</td>\n",
       "      <td>Fiber optic</td>\n",
       "      <td>No</td>\n",
       "      <td>...</td>\n",
       "      <td>No</td>\n",
       "      <td>No</td>\n",
       "      <td>No</td>\n",
       "      <td>No</td>\n",
       "      <td>Month-to-month</td>\n",
       "      <td>Yes</td>\n",
       "      <td>Electronic check</td>\n",
       "      <td>70.70</td>\n",
       "      <td>151.65</td>\n",
       "      <td>Yes</td>\n",
       "    </tr>\n",
       "    <tr>\n",
       "      <th>...</th>\n",
       "      <td>...</td>\n",
       "      <td>...</td>\n",
       "      <td>...</td>\n",
       "      <td>...</td>\n",
       "      <td>...</td>\n",
       "      <td>...</td>\n",
       "      <td>...</td>\n",
       "      <td>...</td>\n",
       "      <td>...</td>\n",
       "      <td>...</td>\n",
       "      <td>...</td>\n",
       "      <td>...</td>\n",
       "      <td>...</td>\n",
       "      <td>...</td>\n",
       "      <td>...</td>\n",
       "      <td>...</td>\n",
       "      <td>...</td>\n",
       "      <td>...</td>\n",
       "      <td>...</td>\n",
       "      <td>...</td>\n",
       "      <td>...</td>\n",
       "    </tr>\n",
       "    <tr>\n",
       "      <th>7038</th>\n",
       "      <td>6840-RESVB</td>\n",
       "      <td>Male</td>\n",
       "      <td>0</td>\n",
       "      <td>Yes</td>\n",
       "      <td>Yes</td>\n",
       "      <td>24</td>\n",
       "      <td>Yes</td>\n",
       "      <td>Yes</td>\n",
       "      <td>DSL</td>\n",
       "      <td>Yes</td>\n",
       "      <td>...</td>\n",
       "      <td>Yes</td>\n",
       "      <td>Yes</td>\n",
       "      <td>Yes</td>\n",
       "      <td>Yes</td>\n",
       "      <td>One year</td>\n",
       "      <td>Yes</td>\n",
       "      <td>Mailed check</td>\n",
       "      <td>84.80</td>\n",
       "      <td>1990.5</td>\n",
       "      <td>No</td>\n",
       "    </tr>\n",
       "    <tr>\n",
       "      <th>7039</th>\n",
       "      <td>2234-XADUH</td>\n",
       "      <td>Female</td>\n",
       "      <td>0</td>\n",
       "      <td>Yes</td>\n",
       "      <td>Yes</td>\n",
       "      <td>72</td>\n",
       "      <td>Yes</td>\n",
       "      <td>Yes</td>\n",
       "      <td>Fiber optic</td>\n",
       "      <td>No</td>\n",
       "      <td>...</td>\n",
       "      <td>Yes</td>\n",
       "      <td>No</td>\n",
       "      <td>Yes</td>\n",
       "      <td>Yes</td>\n",
       "      <td>One year</td>\n",
       "      <td>Yes</td>\n",
       "      <td>Credit card (automatic)</td>\n",
       "      <td>103.20</td>\n",
       "      <td>7362.9</td>\n",
       "      <td>No</td>\n",
       "    </tr>\n",
       "    <tr>\n",
       "      <th>7040</th>\n",
       "      <td>4801-JZAZL</td>\n",
       "      <td>Female</td>\n",
       "      <td>0</td>\n",
       "      <td>Yes</td>\n",
       "      <td>Yes</td>\n",
       "      <td>11</td>\n",
       "      <td>No</td>\n",
       "      <td>No phone service</td>\n",
       "      <td>DSL</td>\n",
       "      <td>Yes</td>\n",
       "      <td>...</td>\n",
       "      <td>No</td>\n",
       "      <td>No</td>\n",
       "      <td>No</td>\n",
       "      <td>No</td>\n",
       "      <td>Month-to-month</td>\n",
       "      <td>Yes</td>\n",
       "      <td>Electronic check</td>\n",
       "      <td>29.60</td>\n",
       "      <td>346.45</td>\n",
       "      <td>No</td>\n",
       "    </tr>\n",
       "    <tr>\n",
       "      <th>7041</th>\n",
       "      <td>8361-LTMKD</td>\n",
       "      <td>Male</td>\n",
       "      <td>1</td>\n",
       "      <td>Yes</td>\n",
       "      <td>No</td>\n",
       "      <td>4</td>\n",
       "      <td>Yes</td>\n",
       "      <td>Yes</td>\n",
       "      <td>Fiber optic</td>\n",
       "      <td>No</td>\n",
       "      <td>...</td>\n",
       "      <td>No</td>\n",
       "      <td>No</td>\n",
       "      <td>No</td>\n",
       "      <td>No</td>\n",
       "      <td>Month-to-month</td>\n",
       "      <td>Yes</td>\n",
       "      <td>Mailed check</td>\n",
       "      <td>74.40</td>\n",
       "      <td>306.6</td>\n",
       "      <td>Yes</td>\n",
       "    </tr>\n",
       "    <tr>\n",
       "      <th>7042</th>\n",
       "      <td>3186-AJIEK</td>\n",
       "      <td>Male</td>\n",
       "      <td>0</td>\n",
       "      <td>No</td>\n",
       "      <td>No</td>\n",
       "      <td>66</td>\n",
       "      <td>Yes</td>\n",
       "      <td>No</td>\n",
       "      <td>Fiber optic</td>\n",
       "      <td>Yes</td>\n",
       "      <td>...</td>\n",
       "      <td>Yes</td>\n",
       "      <td>Yes</td>\n",
       "      <td>Yes</td>\n",
       "      <td>Yes</td>\n",
       "      <td>Two year</td>\n",
       "      <td>Yes</td>\n",
       "      <td>Bank transfer (automatic)</td>\n",
       "      <td>105.65</td>\n",
       "      <td>6844.5</td>\n",
       "      <td>No</td>\n",
       "    </tr>\n",
       "  </tbody>\n",
       "</table>\n",
       "<p>7043 rows × 21 columns</p>\n",
       "</div>"
      ],
      "text/plain": [
       "      customerID  gender  SeniorCitizen Partner Dependents  tenure  \\\n",
       "0     7590-VHVEG  Female              0     Yes         No       1   \n",
       "1     5575-GNVDE    Male              0      No         No      34   \n",
       "2     3668-QPYBK    Male              0      No         No       2   \n",
       "3     7795-CFOCW    Male              0      No         No      45   \n",
       "4     9237-HQITU  Female              0      No         No       2   \n",
       "...          ...     ...            ...     ...        ...     ...   \n",
       "7038  6840-RESVB    Male              0     Yes        Yes      24   \n",
       "7039  2234-XADUH  Female              0     Yes        Yes      72   \n",
       "7040  4801-JZAZL  Female              0     Yes        Yes      11   \n",
       "7041  8361-LTMKD    Male              1     Yes         No       4   \n",
       "7042  3186-AJIEK    Male              0      No         No      66   \n",
       "\n",
       "     PhoneService     MultipleLines InternetService OnlineSecurity  ...  \\\n",
       "0              No  No phone service             DSL             No  ...   \n",
       "1             Yes                No             DSL            Yes  ...   \n",
       "2             Yes                No             DSL            Yes  ...   \n",
       "3              No  No phone service             DSL            Yes  ...   \n",
       "4             Yes                No     Fiber optic             No  ...   \n",
       "...           ...               ...             ...            ...  ...   \n",
       "7038          Yes               Yes             DSL            Yes  ...   \n",
       "7039          Yes               Yes     Fiber optic             No  ...   \n",
       "7040           No  No phone service             DSL            Yes  ...   \n",
       "7041          Yes               Yes     Fiber optic             No  ...   \n",
       "7042          Yes                No     Fiber optic            Yes  ...   \n",
       "\n",
       "     DeviceProtection TechSupport StreamingTV StreamingMovies        Contract  \\\n",
       "0                  No          No          No              No  Month-to-month   \n",
       "1                 Yes          No          No              No        One year   \n",
       "2                  No          No          No              No  Month-to-month   \n",
       "3                 Yes         Yes          No              No        One year   \n",
       "4                  No          No          No              No  Month-to-month   \n",
       "...               ...         ...         ...             ...             ...   \n",
       "7038              Yes         Yes         Yes             Yes        One year   \n",
       "7039              Yes          No         Yes             Yes        One year   \n",
       "7040               No          No          No              No  Month-to-month   \n",
       "7041               No          No          No              No  Month-to-month   \n",
       "7042              Yes         Yes         Yes             Yes        Two year   \n",
       "\n",
       "     PaperlessBilling              PaymentMethod MonthlyCharges  TotalCharges  \\\n",
       "0                 Yes           Electronic check          29.85         29.85   \n",
       "1                  No               Mailed check          56.95        1889.5   \n",
       "2                 Yes               Mailed check          53.85        108.15   \n",
       "3                  No  Bank transfer (automatic)          42.30       1840.75   \n",
       "4                 Yes           Electronic check          70.70        151.65   \n",
       "...               ...                        ...            ...           ...   \n",
       "7038              Yes               Mailed check          84.80        1990.5   \n",
       "7039              Yes    Credit card (automatic)         103.20        7362.9   \n",
       "7040              Yes           Electronic check          29.60        346.45   \n",
       "7041              Yes               Mailed check          74.40         306.6   \n",
       "7042              Yes  Bank transfer (automatic)         105.65        6844.5   \n",
       "\n",
       "     Churn  \n",
       "0       No  \n",
       "1       No  \n",
       "2      Yes  \n",
       "3       No  \n",
       "4      Yes  \n",
       "...    ...  \n",
       "7038    No  \n",
       "7039    No  \n",
       "7040    No  \n",
       "7041   Yes  \n",
       "7042    No  \n",
       "\n",
       "[7043 rows x 21 columns]"
      ]
     },
     "execution_count": 2,
     "metadata": {},
     "output_type": "execute_result"
    }
   ],
   "source": [
    "df=pd.read_csv('customer churn analysis data')\n",
    "df"
   ]
  },
  {
   "cell_type": "code",
   "execution_count": 3,
   "id": "db8989e6",
   "metadata": {},
   "outputs": [
    {
     "data": {
      "text/html": [
       "<div>\n",
       "<style scoped>\n",
       "    .dataframe tbody tr th:only-of-type {\n",
       "        vertical-align: middle;\n",
       "    }\n",
       "\n",
       "    .dataframe tbody tr th {\n",
       "        vertical-align: top;\n",
       "    }\n",
       "\n",
       "    .dataframe thead th {\n",
       "        text-align: right;\n",
       "    }\n",
       "</style>\n",
       "<table border=\"1\" class=\"dataframe\">\n",
       "  <thead>\n",
       "    <tr style=\"text-align: right;\">\n",
       "      <th></th>\n",
       "      <th>customerID</th>\n",
       "      <th>gender</th>\n",
       "      <th>SeniorCitizen</th>\n",
       "      <th>Partner</th>\n",
       "      <th>Dependents</th>\n",
       "      <th>tenure</th>\n",
       "      <th>PhoneService</th>\n",
       "      <th>MultipleLines</th>\n",
       "      <th>InternetService</th>\n",
       "      <th>OnlineSecurity</th>\n",
       "      <th>...</th>\n",
       "      <th>DeviceProtection</th>\n",
       "      <th>TechSupport</th>\n",
       "      <th>StreamingTV</th>\n",
       "      <th>StreamingMovies</th>\n",
       "      <th>Contract</th>\n",
       "      <th>PaperlessBilling</th>\n",
       "      <th>PaymentMethod</th>\n",
       "      <th>MonthlyCharges</th>\n",
       "      <th>TotalCharges</th>\n",
       "      <th>Churn</th>\n",
       "    </tr>\n",
       "  </thead>\n",
       "  <tbody>\n",
       "    <tr>\n",
       "      <th>7038</th>\n",
       "      <td>6840-RESVB</td>\n",
       "      <td>Male</td>\n",
       "      <td>0</td>\n",
       "      <td>Yes</td>\n",
       "      <td>Yes</td>\n",
       "      <td>24</td>\n",
       "      <td>Yes</td>\n",
       "      <td>Yes</td>\n",
       "      <td>DSL</td>\n",
       "      <td>Yes</td>\n",
       "      <td>...</td>\n",
       "      <td>Yes</td>\n",
       "      <td>Yes</td>\n",
       "      <td>Yes</td>\n",
       "      <td>Yes</td>\n",
       "      <td>One year</td>\n",
       "      <td>Yes</td>\n",
       "      <td>Mailed check</td>\n",
       "      <td>84.80</td>\n",
       "      <td>1990.5</td>\n",
       "      <td>No</td>\n",
       "    </tr>\n",
       "    <tr>\n",
       "      <th>7039</th>\n",
       "      <td>2234-XADUH</td>\n",
       "      <td>Female</td>\n",
       "      <td>0</td>\n",
       "      <td>Yes</td>\n",
       "      <td>Yes</td>\n",
       "      <td>72</td>\n",
       "      <td>Yes</td>\n",
       "      <td>Yes</td>\n",
       "      <td>Fiber optic</td>\n",
       "      <td>No</td>\n",
       "      <td>...</td>\n",
       "      <td>Yes</td>\n",
       "      <td>No</td>\n",
       "      <td>Yes</td>\n",
       "      <td>Yes</td>\n",
       "      <td>One year</td>\n",
       "      <td>Yes</td>\n",
       "      <td>Credit card (automatic)</td>\n",
       "      <td>103.20</td>\n",
       "      <td>7362.9</td>\n",
       "      <td>No</td>\n",
       "    </tr>\n",
       "    <tr>\n",
       "      <th>7040</th>\n",
       "      <td>4801-JZAZL</td>\n",
       "      <td>Female</td>\n",
       "      <td>0</td>\n",
       "      <td>Yes</td>\n",
       "      <td>Yes</td>\n",
       "      <td>11</td>\n",
       "      <td>No</td>\n",
       "      <td>No phone service</td>\n",
       "      <td>DSL</td>\n",
       "      <td>Yes</td>\n",
       "      <td>...</td>\n",
       "      <td>No</td>\n",
       "      <td>No</td>\n",
       "      <td>No</td>\n",
       "      <td>No</td>\n",
       "      <td>Month-to-month</td>\n",
       "      <td>Yes</td>\n",
       "      <td>Electronic check</td>\n",
       "      <td>29.60</td>\n",
       "      <td>346.45</td>\n",
       "      <td>No</td>\n",
       "    </tr>\n",
       "    <tr>\n",
       "      <th>7041</th>\n",
       "      <td>8361-LTMKD</td>\n",
       "      <td>Male</td>\n",
       "      <td>1</td>\n",
       "      <td>Yes</td>\n",
       "      <td>No</td>\n",
       "      <td>4</td>\n",
       "      <td>Yes</td>\n",
       "      <td>Yes</td>\n",
       "      <td>Fiber optic</td>\n",
       "      <td>No</td>\n",
       "      <td>...</td>\n",
       "      <td>No</td>\n",
       "      <td>No</td>\n",
       "      <td>No</td>\n",
       "      <td>No</td>\n",
       "      <td>Month-to-month</td>\n",
       "      <td>Yes</td>\n",
       "      <td>Mailed check</td>\n",
       "      <td>74.40</td>\n",
       "      <td>306.6</td>\n",
       "      <td>Yes</td>\n",
       "    </tr>\n",
       "    <tr>\n",
       "      <th>7042</th>\n",
       "      <td>3186-AJIEK</td>\n",
       "      <td>Male</td>\n",
       "      <td>0</td>\n",
       "      <td>No</td>\n",
       "      <td>No</td>\n",
       "      <td>66</td>\n",
       "      <td>Yes</td>\n",
       "      <td>No</td>\n",
       "      <td>Fiber optic</td>\n",
       "      <td>Yes</td>\n",
       "      <td>...</td>\n",
       "      <td>Yes</td>\n",
       "      <td>Yes</td>\n",
       "      <td>Yes</td>\n",
       "      <td>Yes</td>\n",
       "      <td>Two year</td>\n",
       "      <td>Yes</td>\n",
       "      <td>Bank transfer (automatic)</td>\n",
       "      <td>105.65</td>\n",
       "      <td>6844.5</td>\n",
       "      <td>No</td>\n",
       "    </tr>\n",
       "  </tbody>\n",
       "</table>\n",
       "<p>5 rows × 21 columns</p>\n",
       "</div>"
      ],
      "text/plain": [
       "      customerID  gender  SeniorCitizen Partner Dependents  tenure  \\\n",
       "7038  6840-RESVB    Male              0     Yes        Yes      24   \n",
       "7039  2234-XADUH  Female              0     Yes        Yes      72   \n",
       "7040  4801-JZAZL  Female              0     Yes        Yes      11   \n",
       "7041  8361-LTMKD    Male              1     Yes         No       4   \n",
       "7042  3186-AJIEK    Male              0      No         No      66   \n",
       "\n",
       "     PhoneService     MultipleLines InternetService OnlineSecurity  ...  \\\n",
       "7038          Yes               Yes             DSL            Yes  ...   \n",
       "7039          Yes               Yes     Fiber optic             No  ...   \n",
       "7040           No  No phone service             DSL            Yes  ...   \n",
       "7041          Yes               Yes     Fiber optic             No  ...   \n",
       "7042          Yes                No     Fiber optic            Yes  ...   \n",
       "\n",
       "     DeviceProtection TechSupport StreamingTV StreamingMovies        Contract  \\\n",
       "7038              Yes         Yes         Yes             Yes        One year   \n",
       "7039              Yes          No         Yes             Yes        One year   \n",
       "7040               No          No          No              No  Month-to-month   \n",
       "7041               No          No          No              No  Month-to-month   \n",
       "7042              Yes         Yes         Yes             Yes        Two year   \n",
       "\n",
       "     PaperlessBilling              PaymentMethod MonthlyCharges  TotalCharges  \\\n",
       "7038              Yes               Mailed check          84.80        1990.5   \n",
       "7039              Yes    Credit card (automatic)         103.20        7362.9   \n",
       "7040              Yes           Electronic check          29.60        346.45   \n",
       "7041              Yes               Mailed check          74.40         306.6   \n",
       "7042              Yes  Bank transfer (automatic)         105.65        6844.5   \n",
       "\n",
       "     Churn  \n",
       "7038    No  \n",
       "7039    No  \n",
       "7040    No  \n",
       "7041   Yes  \n",
       "7042    No  \n",
       "\n",
       "[5 rows x 21 columns]"
      ]
     },
     "execution_count": 3,
     "metadata": {},
     "output_type": "execute_result"
    }
   ],
   "source": [
    "df.tail()"
   ]
  },
  {
   "cell_type": "code",
   "execution_count": 4,
   "id": "ecdfd545",
   "metadata": {},
   "outputs": [
    {
     "data": {
      "text/html": [
       "<div>\n",
       "<style scoped>\n",
       "    .dataframe tbody tr th:only-of-type {\n",
       "        vertical-align: middle;\n",
       "    }\n",
       "\n",
       "    .dataframe tbody tr th {\n",
       "        vertical-align: top;\n",
       "    }\n",
       "\n",
       "    .dataframe thead th {\n",
       "        text-align: right;\n",
       "    }\n",
       "</style>\n",
       "<table border=\"1\" class=\"dataframe\">\n",
       "  <thead>\n",
       "    <tr style=\"text-align: right;\">\n",
       "      <th></th>\n",
       "      <th>customerID</th>\n",
       "      <th>gender</th>\n",
       "      <th>SeniorCitizen</th>\n",
       "      <th>Partner</th>\n",
       "      <th>Dependents</th>\n",
       "      <th>tenure</th>\n",
       "      <th>PhoneService</th>\n",
       "      <th>MultipleLines</th>\n",
       "      <th>InternetService</th>\n",
       "      <th>OnlineSecurity</th>\n",
       "      <th>...</th>\n",
       "      <th>DeviceProtection</th>\n",
       "      <th>TechSupport</th>\n",
       "      <th>StreamingTV</th>\n",
       "      <th>StreamingMovies</th>\n",
       "      <th>Contract</th>\n",
       "      <th>PaperlessBilling</th>\n",
       "      <th>PaymentMethod</th>\n",
       "      <th>MonthlyCharges</th>\n",
       "      <th>TotalCharges</th>\n",
       "      <th>Churn</th>\n",
       "    </tr>\n",
       "  </thead>\n",
       "  <tbody>\n",
       "    <tr>\n",
       "      <th>0</th>\n",
       "      <td>7590-VHVEG</td>\n",
       "      <td>Female</td>\n",
       "      <td>0</td>\n",
       "      <td>Yes</td>\n",
       "      <td>No</td>\n",
       "      <td>1</td>\n",
       "      <td>No</td>\n",
       "      <td>No phone service</td>\n",
       "      <td>DSL</td>\n",
       "      <td>No</td>\n",
       "      <td>...</td>\n",
       "      <td>No</td>\n",
       "      <td>No</td>\n",
       "      <td>No</td>\n",
       "      <td>No</td>\n",
       "      <td>Month-to-month</td>\n",
       "      <td>Yes</td>\n",
       "      <td>Electronic check</td>\n",
       "      <td>29.85</td>\n",
       "      <td>29.85</td>\n",
       "      <td>No</td>\n",
       "    </tr>\n",
       "    <tr>\n",
       "      <th>1</th>\n",
       "      <td>5575-GNVDE</td>\n",
       "      <td>Male</td>\n",
       "      <td>0</td>\n",
       "      <td>No</td>\n",
       "      <td>No</td>\n",
       "      <td>34</td>\n",
       "      <td>Yes</td>\n",
       "      <td>No</td>\n",
       "      <td>DSL</td>\n",
       "      <td>Yes</td>\n",
       "      <td>...</td>\n",
       "      <td>Yes</td>\n",
       "      <td>No</td>\n",
       "      <td>No</td>\n",
       "      <td>No</td>\n",
       "      <td>One year</td>\n",
       "      <td>No</td>\n",
       "      <td>Mailed check</td>\n",
       "      <td>56.95</td>\n",
       "      <td>1889.5</td>\n",
       "      <td>No</td>\n",
       "    </tr>\n",
       "    <tr>\n",
       "      <th>2</th>\n",
       "      <td>3668-QPYBK</td>\n",
       "      <td>Male</td>\n",
       "      <td>0</td>\n",
       "      <td>No</td>\n",
       "      <td>No</td>\n",
       "      <td>2</td>\n",
       "      <td>Yes</td>\n",
       "      <td>No</td>\n",
       "      <td>DSL</td>\n",
       "      <td>Yes</td>\n",
       "      <td>...</td>\n",
       "      <td>No</td>\n",
       "      <td>No</td>\n",
       "      <td>No</td>\n",
       "      <td>No</td>\n",
       "      <td>Month-to-month</td>\n",
       "      <td>Yes</td>\n",
       "      <td>Mailed check</td>\n",
       "      <td>53.85</td>\n",
       "      <td>108.15</td>\n",
       "      <td>Yes</td>\n",
       "    </tr>\n",
       "    <tr>\n",
       "      <th>3</th>\n",
       "      <td>7795-CFOCW</td>\n",
       "      <td>Male</td>\n",
       "      <td>0</td>\n",
       "      <td>No</td>\n",
       "      <td>No</td>\n",
       "      <td>45</td>\n",
       "      <td>No</td>\n",
       "      <td>No phone service</td>\n",
       "      <td>DSL</td>\n",
       "      <td>Yes</td>\n",
       "      <td>...</td>\n",
       "      <td>Yes</td>\n",
       "      <td>Yes</td>\n",
       "      <td>No</td>\n",
       "      <td>No</td>\n",
       "      <td>One year</td>\n",
       "      <td>No</td>\n",
       "      <td>Bank transfer (automatic)</td>\n",
       "      <td>42.30</td>\n",
       "      <td>1840.75</td>\n",
       "      <td>No</td>\n",
       "    </tr>\n",
       "    <tr>\n",
       "      <th>4</th>\n",
       "      <td>9237-HQITU</td>\n",
       "      <td>Female</td>\n",
       "      <td>0</td>\n",
       "      <td>No</td>\n",
       "      <td>No</td>\n",
       "      <td>2</td>\n",
       "      <td>Yes</td>\n",
       "      <td>No</td>\n",
       "      <td>Fiber optic</td>\n",
       "      <td>No</td>\n",
       "      <td>...</td>\n",
       "      <td>No</td>\n",
       "      <td>No</td>\n",
       "      <td>No</td>\n",
       "      <td>No</td>\n",
       "      <td>Month-to-month</td>\n",
       "      <td>Yes</td>\n",
       "      <td>Electronic check</td>\n",
       "      <td>70.70</td>\n",
       "      <td>151.65</td>\n",
       "      <td>Yes</td>\n",
       "    </tr>\n",
       "  </tbody>\n",
       "</table>\n",
       "<p>5 rows × 21 columns</p>\n",
       "</div>"
      ],
      "text/plain": [
       "   customerID  gender  SeniorCitizen Partner Dependents  tenure PhoneService  \\\n",
       "0  7590-VHVEG  Female              0     Yes         No       1           No   \n",
       "1  5575-GNVDE    Male              0      No         No      34          Yes   \n",
       "2  3668-QPYBK    Male              0      No         No       2          Yes   \n",
       "3  7795-CFOCW    Male              0      No         No      45           No   \n",
       "4  9237-HQITU  Female              0      No         No       2          Yes   \n",
       "\n",
       "      MultipleLines InternetService OnlineSecurity  ... DeviceProtection  \\\n",
       "0  No phone service             DSL             No  ...               No   \n",
       "1                No             DSL            Yes  ...              Yes   \n",
       "2                No             DSL            Yes  ...               No   \n",
       "3  No phone service             DSL            Yes  ...              Yes   \n",
       "4                No     Fiber optic             No  ...               No   \n",
       "\n",
       "  TechSupport StreamingTV StreamingMovies        Contract PaperlessBilling  \\\n",
       "0          No          No              No  Month-to-month              Yes   \n",
       "1          No          No              No        One year               No   \n",
       "2          No          No              No  Month-to-month              Yes   \n",
       "3         Yes          No              No        One year               No   \n",
       "4          No          No              No  Month-to-month              Yes   \n",
       "\n",
       "               PaymentMethod MonthlyCharges  TotalCharges Churn  \n",
       "0           Electronic check          29.85         29.85    No  \n",
       "1               Mailed check          56.95        1889.5    No  \n",
       "2               Mailed check          53.85        108.15   Yes  \n",
       "3  Bank transfer (automatic)          42.30       1840.75    No  \n",
       "4           Electronic check          70.70        151.65   Yes  \n",
       "\n",
       "[5 rows x 21 columns]"
      ]
     },
     "execution_count": 4,
     "metadata": {},
     "output_type": "execute_result"
    }
   ],
   "source": [
    "df.head()"
   ]
  },
  {
   "cell_type": "code",
   "execution_count": 5,
   "id": "cc63b501",
   "metadata": {},
   "outputs": [
    {
     "name": "stdout",
     "output_type": "stream",
     "text": [
      "<class 'pandas.core.frame.DataFrame'>\n",
      "RangeIndex: 7043 entries, 0 to 7042\n",
      "Data columns (total 21 columns):\n",
      " #   Column            Non-Null Count  Dtype  \n",
      "---  ------            --------------  -----  \n",
      " 0   customerID        7043 non-null   object \n",
      " 1   gender            7043 non-null   object \n",
      " 2   SeniorCitizen     7043 non-null   int64  \n",
      " 3   Partner           7043 non-null   object \n",
      " 4   Dependents        7043 non-null   object \n",
      " 5   tenure            7043 non-null   int64  \n",
      " 6   PhoneService      7043 non-null   object \n",
      " 7   MultipleLines     7043 non-null   object \n",
      " 8   InternetService   7043 non-null   object \n",
      " 9   OnlineSecurity    7043 non-null   object \n",
      " 10  OnlineBackup      7043 non-null   object \n",
      " 11  DeviceProtection  7043 non-null   object \n",
      " 12  TechSupport       7043 non-null   object \n",
      " 13  StreamingTV       7043 non-null   object \n",
      " 14  StreamingMovies   7043 non-null   object \n",
      " 15  Contract          7043 non-null   object \n",
      " 16  PaperlessBilling  7043 non-null   object \n",
      " 17  PaymentMethod     7043 non-null   object \n",
      " 18  MonthlyCharges    7043 non-null   float64\n",
      " 19  TotalCharges      7043 non-null   object \n",
      " 20  Churn             7043 non-null   object \n",
      "dtypes: float64(1), int64(2), object(18)\n",
      "memory usage: 1.1+ MB\n"
     ]
    }
   ],
   "source": [
    "df.info()"
   ]
  },
  {
   "cell_type": "code",
   "execution_count": 6,
   "id": "bd01b85d",
   "metadata": {},
   "outputs": [],
   "source": [
    "#From above infoformation, the given dataset contains 1 floate, 2 int, and 18 object datatype.\n",
    "#Dataset contains 7043 rows and 21 columns.\n",
    "#The data is correct as i have confirmed it using df.tail() and df.head() code."
   ]
  },
  {
   "cell_type": "markdown",
   "id": "0fba4a92",
   "metadata": {},
   "source": [
    "# Checking for null values:"
   ]
  },
  {
   "cell_type": "code",
   "execution_count": 7,
   "id": "c5aa2bf1",
   "metadata": {},
   "outputs": [
    {
     "data": {
      "text/plain": [
       "customerID          0\n",
       "gender              0\n",
       "SeniorCitizen       0\n",
       "Partner             0\n",
       "Dependents          0\n",
       "tenure              0\n",
       "PhoneService        0\n",
       "MultipleLines       0\n",
       "InternetService     0\n",
       "OnlineSecurity      0\n",
       "OnlineBackup        0\n",
       "DeviceProtection    0\n",
       "TechSupport         0\n",
       "StreamingTV         0\n",
       "StreamingMovies     0\n",
       "Contract            0\n",
       "PaperlessBilling    0\n",
       "PaymentMethod       0\n",
       "MonthlyCharges      0\n",
       "TotalCharges        0\n",
       "Churn               0\n",
       "dtype: int64"
      ]
     },
     "execution_count": 7,
     "metadata": {},
     "output_type": "execute_result"
    }
   ],
   "source": [
    "df.isnull().sum()"
   ]
  },
  {
   "cell_type": "code",
   "execution_count": 8,
   "id": "b5d6bbe5",
   "metadata": {},
   "outputs": [
    {
     "data": {
      "text/plain": [
       "0"
      ]
     },
     "execution_count": 8,
     "metadata": {},
     "output_type": "execute_result"
    }
   ],
   "source": [
    "df.isnull().sum().sum()"
   ]
  },
  {
   "cell_type": "markdown",
   "id": "bcdc72dc",
   "metadata": {},
   "source": [
    "Given data do not have any null value."
   ]
  },
  {
   "cell_type": "code",
   "execution_count": 9,
   "id": "beded256",
   "metadata": {},
   "outputs": [
    {
     "data": {
      "text/html": [
       "<div>\n",
       "<style scoped>\n",
       "    .dataframe tbody tr th:only-of-type {\n",
       "        vertical-align: middle;\n",
       "    }\n",
       "\n",
       "    .dataframe tbody tr th {\n",
       "        vertical-align: top;\n",
       "    }\n",
       "\n",
       "    .dataframe thead th {\n",
       "        text-align: right;\n",
       "    }\n",
       "</style>\n",
       "<table border=\"1\" class=\"dataframe\">\n",
       "  <thead>\n",
       "    <tr style=\"text-align: right;\">\n",
       "      <th></th>\n",
       "      <th>SeniorCitizen</th>\n",
       "      <th>tenure</th>\n",
       "      <th>MonthlyCharges</th>\n",
       "    </tr>\n",
       "  </thead>\n",
       "  <tbody>\n",
       "    <tr>\n",
       "      <th>count</th>\n",
       "      <td>7043.000000</td>\n",
       "      <td>7043.000000</td>\n",
       "      <td>7043.000000</td>\n",
       "    </tr>\n",
       "    <tr>\n",
       "      <th>mean</th>\n",
       "      <td>0.162147</td>\n",
       "      <td>32.371149</td>\n",
       "      <td>64.761692</td>\n",
       "    </tr>\n",
       "    <tr>\n",
       "      <th>std</th>\n",
       "      <td>0.368612</td>\n",
       "      <td>24.559481</td>\n",
       "      <td>30.090047</td>\n",
       "    </tr>\n",
       "    <tr>\n",
       "      <th>min</th>\n",
       "      <td>0.000000</td>\n",
       "      <td>0.000000</td>\n",
       "      <td>18.250000</td>\n",
       "    </tr>\n",
       "    <tr>\n",
       "      <th>25%</th>\n",
       "      <td>0.000000</td>\n",
       "      <td>9.000000</td>\n",
       "      <td>35.500000</td>\n",
       "    </tr>\n",
       "    <tr>\n",
       "      <th>50%</th>\n",
       "      <td>0.000000</td>\n",
       "      <td>29.000000</td>\n",
       "      <td>70.350000</td>\n",
       "    </tr>\n",
       "    <tr>\n",
       "      <th>75%</th>\n",
       "      <td>0.000000</td>\n",
       "      <td>55.000000</td>\n",
       "      <td>89.850000</td>\n",
       "    </tr>\n",
       "    <tr>\n",
       "      <th>max</th>\n",
       "      <td>1.000000</td>\n",
       "      <td>72.000000</td>\n",
       "      <td>118.750000</td>\n",
       "    </tr>\n",
       "  </tbody>\n",
       "</table>\n",
       "</div>"
      ],
      "text/plain": [
       "       SeniorCitizen       tenure  MonthlyCharges\n",
       "count    7043.000000  7043.000000     7043.000000\n",
       "mean        0.162147    32.371149       64.761692\n",
       "std         0.368612    24.559481       30.090047\n",
       "min         0.000000     0.000000       18.250000\n",
       "25%         0.000000     9.000000       35.500000\n",
       "50%         0.000000    29.000000       70.350000\n",
       "75%         0.000000    55.000000       89.850000\n",
       "max         1.000000    72.000000      118.750000"
      ]
     },
     "execution_count": 9,
     "metadata": {},
     "output_type": "execute_result"
    }
   ],
   "source": [
    "df.describe()"
   ]
  },
  {
   "cell_type": "code",
   "execution_count": 13,
   "id": "192fad4a",
   "metadata": {},
   "outputs": [
    {
     "data": {
      "text/plain": [
       "Index(['customerID', 'gender', 'SeniorCitizen', 'Partner', 'Dependents',\n",
       "       'tenure', 'PhoneService', 'MultipleLines', 'InternetService',\n",
       "       'OnlineSecurity', 'OnlineBackup', 'DeviceProtection', 'TechSupport',\n",
       "       'StreamingTV', 'StreamingMovies', 'Contract', 'PaperlessBilling',\n",
       "       'PaymentMethod', 'MonthlyCharges', 'TotalCharges', 'Churn'],\n",
       "      dtype='object')"
      ]
     },
     "execution_count": 13,
     "metadata": {},
     "output_type": "execute_result"
    }
   ],
   "source": [
    "df.columns"
   ]
  },
  {
   "cell_type": "markdown",
   "id": "64e9ace4",
   "metadata": {},
   "source": [
    "# Visualization:"
   ]
  },
  {
   "cell_type": "code",
   "execution_count": 14,
   "id": "874a7708",
   "metadata": {},
   "outputs": [
    {
     "name": "stdout",
     "output_type": "stream",
     "text": [
      "7590-VHVEG    1\n",
      "3791-LGQCY    1\n",
      "6008-NAIXK    1\n",
      "5956-YHHRX    1\n",
      "5365-LLFYV    1\n",
      "             ..\n",
      "9796-MVYXX    1\n",
      "2637-FKFSY    1\n",
      "1552-AAGRX    1\n",
      "4304-TSPVK    1\n",
      "3186-AJIEK    1\n",
      "Name: customerID, Length: 7043, dtype: int64\n"
     ]
    },
    {
     "data": {
      "image/png": "[encoded data removed]",
      "text/plain": [
       "<Figure size 432x288 with 1 Axes>"
      ]
     },
     "metadata": {
      "needs_background": "light"
     },
     "output_type": "display_data"
    }
   ],
   "source": [
    "print(df['customerID'].value_counts())\n",
    "sns.countplot(x='customerID',data=df,palette='plasma')\n",
    "plt.show()"
   ]
  },
  {
   "cell_type": "code",
   "execution_count": 15,
   "id": "6a40c46d",
   "metadata": {},
   "outputs": [
    {
     "name": "stdout",
     "output_type": "stream",
     "text": [
      "Male      3555\n",
      "Female    3488\n",
      "Name: gender, dtype: int64\n"
     ]
    },
    {
     "data": {
      "image/png": "[encoded data removed]",
      "text/plain": [
       "<Figure size 432x288 with 1 Axes>"
      ]
     },
     "metadata": {
      "needs_background": "light"
     },
     "output_type": "display_data"
    }
   ],
   "source": [
    "print(df['gender'].value_counts())\n",
    "sns.countplot(x='gender',data=df,palette='plasma')\n",
    "plt.show()"
   ]
  },
  {
   "cell_type": "code",
   "execution_count": 16,
   "id": "4ee122b2",
   "metadata": {},
   "outputs": [
    {
     "name": "stdout",
     "output_type": "stream",
     "text": [
      "0    5901\n",
      "1    1142\n",
      "Name: SeniorCitizen, dtype: int64\n"
     ]
    },
    {
     "data": {
      "image/png": "[encoded data removed]",
      "text/plain": [
       "<Figure size 432x288 with 1 Axes>"
      ]
     },
     "metadata": {
      "needs_background": "light"
     },
     "output_type": "display_data"
    }
   ],
   "source": [
    "print(df['SeniorCitizen'].value_counts())\n",
    "sns.countplot(x='SeniorCitizen',data=df,palette='plasma')\n",
    "plt.show()"
   ]
  },
  {
   "cell_type": "code",
   "execution_count": 17,
   "id": "88281a69",
   "metadata": {},
   "outputs": [
    {
     "name": "stdout",
     "output_type": "stream",
     "text": [
      "No     3641\n",
      "Yes    3402\n",
      "Name: Partner, dtype: int64\n"
     ]
    },
    {
     "data": {
      "image/png": "[encoded data removed]",
      "text/plain": [
       "<Figure size 432x288 with 1 Axes>"
      ]
     },
     "metadata": {
      "needs_background": "light"
     },
     "output_type": "display_data"
    }
   ],
   "source": [
    "print(df['Partner'].value_counts())\n",
    "sns.countplot(x='Partner',data=df,palette='plasma')\n",
    "plt.show()"
   ]
  },
  {
   "cell_type": "code",
   "execution_count": 18,
   "id": "0baabe61",
   "metadata": {},
   "outputs": [
    {
     "name": "stdout",
     "output_type": "stream",
     "text": [
      "No     4933\n",
      "Yes    2110\n",
      "Name: Dependents, dtype: int64\n"
     ]
    },
    {
     "data": {
      "image/png": "[encoded data removed]",
      "text/plain": [
       "<Figure size 432x288 with 1 Axes>"
      ]
     },
     "metadata": {
      "needs_background": "light"
     },
     "output_type": "display_data"
    }
   ],
   "source": [
    "print(df['Dependents'].value_counts())\n",
    "sns.countplot(x='Dependents',data=df,palette='plasma')\n",
    "plt.show()"
   ]
  },
  {
   "cell_type": "code",
   "execution_count": 19,
   "id": "cdcfdc12",
   "metadata": {},
   "outputs": [
    {
     "name": "stdout",
     "output_type": "stream",
     "text": [
      "1     613\n",
      "72    362\n",
      "2     238\n",
      "3     200\n",
      "4     176\n",
      "     ... \n",
      "28     57\n",
      "39     56\n",
      "44     51\n",
      "36     50\n",
      "0      11\n",
      "Name: tenure, Length: 73, dtype: int64\n"
     ]
    },
    {
     "data": {
      "image/png": "[encoded data removed]",
      "text/plain": [
       "<Figure size 432x288 with 1 Axes>"
      ]
     },
     "metadata": {
      "needs_background": "light"
     },
     "output_type": "display_data"
    }
   ],
   "source": [
    "print(df['tenure'].value_counts())\n",
    "sns.countplot(x='tenure',data=df,palette='plasma')\n",
    "plt.show()"
   ]
  },
  {
   "cell_type": "code",
   "execution_count": 20,
   "id": "dbc6bd9f",
   "metadata": {},
   "outputs": [
    {
     "name": "stdout",
     "output_type": "stream",
     "text": [
      "Yes    6361\n",
      "No      682\n",
      "Name: PhoneService, dtype: int64\n"
     ]
    },
    {
     "data": {
      "image/png": "[encoded data removed]",
      "text/plain": [
       "<Figure size 432x288 with 1 Axes>"
      ]
     },
     "metadata": {
      "needs_background": "light"
     },
     "output_type": "display_data"
    }
   ],
   "source": [
    "print(df['PhoneService'].value_counts())\n",
    "sns.countplot(x='PhoneService',data=df,palette='plasma')\n",
    "plt.show()"
   ]
  },
  {
   "cell_type": "code",
   "execution_count": 21,
   "id": "24c06e62",
   "metadata": {},
   "outputs": [
    {
     "name": "stdout",
     "output_type": "stream",
     "text": [
      "No                  3390\n",
      "Yes                 2971\n",
      "No phone service     682\n",
      "Name: MultipleLines, dtype: int64\n"
     ]
    },
    {
     "data": {
      "image/png": "[encoded data removed]",
      "text/plain": [
       "<Figure size 432x288 with 1 Axes>"
      ]
     },
     "metadata": {
      "needs_background": "light"
     },
     "output_type": "display_data"
    }
   ],
   "source": [
    "print(df['MultipleLines'].value_counts())\n",
    "sns.countplot(x='MultipleLines',data=df,palette='plasma')\n",
    "plt.show()"
   ]
  },
  {
   "cell_type": "code",
   "execution_count": 22,
   "id": "c5b85857",
   "metadata": {},
   "outputs": [
    {
     "name": "stdout",
     "output_type": "stream",
     "text": [
      "Fiber optic    3096\n",
      "DSL            2421\n",
      "No             1526\n",
      "Name: InternetService, dtype: int64\n"
     ]
    },
    {
     "data": {
      "image/png": "[encoded data removed]",
      "text/plain": [
       "<Figure size 432x288 with 1 Axes>"
      ]
     },
     "metadata": {
      "needs_background": "light"
     },
     "output_type": "display_data"
    }
   ],
   "source": [
    "print(df['InternetService'].value_counts())\n",
    "sns.countplot(x='InternetService',data=df,palette='plasma')\n",
    "plt.show()"
   ]
  },
  {
   "cell_type": "code",
   "execution_count": 24,
   "id": "5df2771f",
   "metadata": {},
   "outputs": [
    {
     "name": "stdout",
     "output_type": "stream",
     "text": [
      "No                     3498\n",
      "Yes                    2019\n",
      "No internet service    1526\n",
      "Name: OnlineSecurity, dtype: int64\n"
     ]
    },
    {
     "data": {
      "image/png": "[encoded data removed]",
      "text/plain": [
       "<Figure size 432x288 with 1 Axes>"
      ]
     },
     "metadata": {
      "needs_background": "light"
     },
     "output_type": "display_data"
    }
   ],
   "source": [
    "print(df['OnlineSecurity'].value_counts())\n",
    "sns.countplot(x='OnlineSecurity',data=df,palette='plasma')\n",
    "plt.show()"
   ]
  },
  {
   "cell_type": "code",
   "execution_count": 25,
   "id": "1817e578",
   "metadata": {},
   "outputs": [
    {
     "name": "stdout",
     "output_type": "stream",
     "text": [
      "No                     3088\n",
      "Yes                    2429\n",
      "No internet service    1526\n",
      "Name: OnlineBackup, dtype: int64\n"
     ]
    },
    {
     "data": {
      "image/png": "[encoded data removed]",
      "text/plain": [
       "<Figure size 432x288 with 1 Axes>"
      ]
     },
     "metadata": {
      "needs_background": "light"
     },
     "output_type": "display_data"
    }
   ],
   "source": [
    "print(df['OnlineBackup'].value_counts())\n",
    "sns.countplot(x='OnlineBackup',data=df,palette='plasma')\n",
    "plt.show()"
   ]
  },
  {
   "cell_type": "code",
   "execution_count": 27,
   "id": "f069188d",
   "metadata": {},
   "outputs": [
    {
     "name": "stdout",
     "output_type": "stream",
     "text": [
      "No                     3095\n",
      "Yes                    2422\n",
      "No internet service    1526\n",
      "Name: DeviceProtection, dtype: int64\n"
     ]
    },
    {
     "data": {
      "image/png": "[encoded data removed]",
      "text/plain": [
       "<Figure size 432x288 with 1 Axes>"
      ]
     },
     "metadata": {
      "needs_background": "light"
     },
     "output_type": "display_data"
    }
   ],
   "source": [
    "print(df['DeviceProtection'].value_counts())\n",
    "sns.countplot(x='DeviceProtection',data=df,palette='plasma')\n",
    "plt.show()"
   ]
  },
  {
   "cell_type": "code",
   "execution_count": 28,
   "id": "b33bfad0",
   "metadata": {},
   "outputs": [
    {
     "name": "stdout",
     "output_type": "stream",
     "text": [
      "No                     3473\n",
      "Yes                    2044\n",
      "No internet service    1526\n",
      "Name: TechSupport, dtype: int64\n"
     ]
    },
    {
     "data": {
      "image/png": "[encoded data removed]",
      "text/plain": [
       "<Figure size 432x288 with 1 Axes>"
      ]
     },
     "metadata": {
      "needs_background": "light"
     },
     "output_type": "display_data"
    }
   ],
   "source": [
    "print(df['TechSupport'].value_counts())\n",
    "sns.countplot(x='TechSupport',data=df,palette='plasma')\n",
    "plt.show()"
   ]
  },
  {
   "cell_type": "code",
   "execution_count": 29,
   "id": "5e2c08ad",
   "metadata": {},
   "outputs": [
    {
     "name": "stdout",
     "output_type": "stream",
     "text": [
      "No                     2810\n",
      "Yes                    2707\n",
      "No internet service    1526\n",
      "Name: StreamingTV, dtype: int64\n"
     ]
    },
    {
     "data": {
      "image/png": "[encoded data removed]",
      "text/plain": [
       "<Figure size 432x288 with 1 Axes>"
      ]
     },
     "metadata": {
      "needs_background": "light"
     },
     "output_type": "display_data"
    }
   ],
   "source": [
    "print(df['StreamingTV'].value_counts())\n",
    "sns.countplot(x='StreamingTV',data=df,palette='plasma')\n",
    "plt.show()"
   ]
  },
  {
   "cell_type": "code",
   "execution_count": 30,
   "id": "3b8e8b43",
   "metadata": {},
   "outputs": [
    {
     "name": "stdout",
     "output_type": "stream",
     "text": [
      "No                     2785\n",
      "Yes                    2732\n",
      "No internet service    1526\n",
      "Name: StreamingMovies, dtype: int64\n"
     ]
    },
    {
     "data": {
      "image/png": "[encoded data removed]",
      "text/plain": [
       "<Figure size 432x288 with 1 Axes>"
      ]
     },
     "metadata": {
      "needs_background": "light"
     },
     "output_type": "display_data"
    }
   ],
   "source": [
    "print(df['StreamingMovies'].value_counts())\n",
    "sns.countplot(x='StreamingMovies',data=df,palette='plasma')\n",
    "plt.show()"
   ]
  },
  {
   "cell_type": "code",
   "execution_count": 31,
   "id": "06319ba7",
   "metadata": {},
   "outputs": [
    {
     "name": "stdout",
     "output_type": "stream",
     "text": [
      "Month-to-month    3875\n",
      "Two year          1695\n",
      "One year          1473\n",
      "Name: Contract, dtype: int64\n"
     ]
    },
    {
     "data": {
      "image/png": "[encoded data removed]",
      "text/plain": [
       "<Figure size 432x288 with 1 Axes>"
      ]
     },
     "metadata": {
      "needs_background": "light"
     },
     "output_type": "display_data"
    }
   ],
   "source": [
    "print(df['Contract'].value_counts())\n",
    "sns.countplot(x='Contract',data=df,palette='plasma')\n",
    "plt.show()"
   ]
  },
  {
   "cell_type": "code",
   "execution_count": 32,
   "id": "c8490a02",
   "metadata": {},
   "outputs": [
    {
     "name": "stdout",
     "output_type": "stream",
     "text": [
      "Yes    4171\n",
      "No     2872\n",
      "Name: PaperlessBilling, dtype: int64\n"
     ]
    },
    {
     "data": {
      "image/png": "[encoded data removed]",
      "text/plain": [
       "<Figure size 432x288 with 1 Axes>"
      ]
     },
     "metadata": {
      "needs_background": "light"
     },
     "output_type": "display_data"
    }
   ],
   "source": [
    "print(df['PaperlessBilling'].value_counts())\n",
    "sns.countplot(x='PaperlessBilling',data=df,palette='plasma')\n",
    "plt.show()"
   ]
  },
  {
   "cell_type": "code",
   "execution_count": 33,
   "id": "c6e1d996",
   "metadata": {},
   "outputs": [
    {
     "name": "stdout",
     "output_type": "stream",
     "text": [
      "Electronic check             2365\n",
      "Mailed check                 1612\n",
      "Bank transfer (automatic)    1544\n",
      "Credit card (automatic)      1522\n",
      "Name: PaymentMethod, dtype: int64\n"
     ]
    },
    {
     "data": {
      "image/png": "[encoded data removed]",
      "text/plain": [
       "<Figure size 432x288 with 1 Axes>"
      ]
     },
     "metadata": {
      "needs_background": "light"
     },
     "output_type": "display_data"
    }
   ],
   "source": [
    "print(df['PaymentMethod'].value_counts())\n",
    "sns.countplot(x='PaymentMethod',data=df,palette='plasma')\n",
    "plt.show()"
   ]
  },
  {
   "cell_type": "code",
   "execution_count": 34,
   "id": "b74b9e51",
   "metadata": {},
   "outputs": [
    {
     "name": "stdout",
     "output_type": "stream",
     "text": [
      "20.05     61\n",
      "19.85     45\n",
      "19.95     44\n",
      "19.90     44\n",
      "20.00     43\n",
      "          ..\n",
      "23.65      1\n",
      "114.70     1\n",
      "43.65      1\n",
      "87.80      1\n",
      "78.70      1\n",
      "Name: MonthlyCharges, Length: 1585, dtype: int64\n"
     ]
    },
    {
     "data": {
      "image/png": "[encoded data removed]",
      "text/plain": [
       "<Figure size 432x288 with 1 Axes>"
      ]
     },
     "metadata": {
      "needs_background": "light"
     },
     "output_type": "display_data"
    }
   ],
   "source": [
    "print(df['MonthlyCharges'].value_counts())\n",
    "sns.countplot(x='MonthlyCharges',data=df,palette='plasma')\n",
    "plt.show()"
   ]
  },
  {
   "cell_type": "code",
   "execution_count": 35,
   "id": "fdeec744",
   "metadata": {},
   "outputs": [
    {
     "name": "stdout",
     "output_type": "stream",
     "text": [
      "          11\n",
      "20.2      11\n",
      "19.75      9\n",
      "20.05      8\n",
      "19.9       8\n",
      "          ..\n",
      "6849.4     1\n",
      "692.35     1\n",
      "130.15     1\n",
      "3211.9     1\n",
      "6844.5     1\n",
      "Name: TotalCharges, Length: 6531, dtype: int64\n"
     ]
    },
    {
     "data": {
      "image/png": "[encoded data removed]",
      "text/plain": [
       "<Figure size 432x288 with 1 Axes>"
      ]
     },
     "metadata": {
      "needs_background": "light"
     },
     "output_type": "display_data"
    }
   ],
   "source": [
    "print(df['TotalCharges'].value_counts())\n",
    "sns.countplot(x='TotalCharges',data=df,palette='plasma')\n",
    "plt.show()"
   ]
  },
  {
   "cell_type": "code",
   "execution_count": 36,
   "id": "6d081ef5",
   "metadata": {},
   "outputs": [
    {
     "name": "stdout",
     "output_type": "stream",
     "text": [
      "No     5174\n",
      "Yes    1869\n",
      "Name: Churn, dtype: int64\n"
     ]
    },
    {
     "data": {
      "image/png": "[encoded data removed]",
      "text/plain": [
       "<Figure size 432x288 with 1 Axes>"
      ]
     },
     "metadata": {
      "needs_background": "light"
     },
     "output_type": "display_data"
    }
   ],
   "source": [
    "print(df['Churn'].value_counts())\n",
    "sns.countplot(x='Churn',data=df,palette='plasma')\n",
    "plt.show()"
   ]
  },
  {
   "cell_type": "code",
   "execution_count": 38,
   "id": "140b72d4",
   "metadata": {},
   "outputs": [
    {
     "data": {
      "text/plain": [
       "<seaborn.axisgrid.PairGrid at 0x1ab24803250>"
      ]
     },
     "execution_count": 38,
     "metadata": {},
     "output_type": "execute_result"
    },
    {
     "data": {
      "image/png": "[encoded data removed]",
      "text/plain": [
       "<Figure size 592x540 with 12 Axes>"
      ]
     },
     "metadata": {
      "needs_background": "light"
     },
     "output_type": "display_data"
    }
   ],
   "source": [
    "#Pairplot for target\n",
    "\n",
    "sns.pairplot(df,hue=\"Churn\",palette='viridis')"
   ]
  },
  {
   "cell_type": "markdown",
   "id": "d519538b",
   "metadata": {},
   "source": [
    "# Checking skewness:"
   ]
  },
  {
   "cell_type": "code",
   "execution_count": 40,
   "id": "e99dcb12",
   "metadata": {},
   "outputs": [],
   "source": [
    "#Different types of variables are Categorical, ordinal, and numerical.\n",
    "\n",
    "num_cols=[\"MonthlyCharges\",\"TotalCharges\",\"SeniorCitizen\",\"tenure\"]\n",
    "cat_cols=[\"gender\", \"Partner\", \"Dependents\", \"PhoneService\", \"MultipleLines\",\"OnlineSecurity\",\n",
    "          \"OnlineBackup\",\"DeviceProtection\",\"TechSupport\",\"StreamingTV\",\"StreamingMovies\",\n",
    "         \"PaperlessBilling\",\"Churn\",\"InternetService\", \"PaymentMethod\",\"Contract\"]"
   ]
  },
  {
   "cell_type": "code",
   "execution_count": 42,
   "id": "d9520988",
   "metadata": {},
   "outputs": [
    {
     "data": {
      "text/plain": [
       "SeniorCitizen     1.833633\n",
       "tenure            0.239540\n",
       "MonthlyCharges   -0.220524\n",
       "dtype: float64"
      ]
     },
     "execution_count": 42,
     "metadata": {},
     "output_type": "execute_result"
    }
   ],
   "source": [
    "df.skew()"
   ]
  },
  {
   "cell_type": "code",
   "execution_count": 43,
   "id": "f38e7194",
   "metadata": {},
   "outputs": [
    {
     "name": "stdout",
     "output_type": "stream",
     "text": [
      "['customerID', 'gender', 'Partner', 'Dependents', 'PhoneService', 'MultipleLines', 'InternetService', 'OnlineSecurity', 'OnlineBackup', 'DeviceProtection', 'TechSupport', 'StreamingTV', 'StreamingMovies', 'Contract', 'PaperlessBilling', 'PaymentMethod', 'TotalCharges', 'Churn']\n"
     ]
    }
   ],
   "source": [
    "cat_cols=[]\n",
    "for i in df.dtypes.index:\n",
    "    if df.dtypes[i]=='object':\n",
    "        cat_cols.append(i)\n",
    "print(cat_cols)"
   ]
  },
  {
   "cell_type": "code",
   "execution_count": 44,
   "id": "76c3fbf9",
   "metadata": {},
   "outputs": [],
   "source": [
    "#Encoding using Ordinal encoder\n",
    "\n",
    "from sklearn.preprocessing import OrdinalEncoder\n",
    "enc=OrdinalEncoder()\n",
    "\n",
    "for i in cat_cols:\n",
    "    df[i]=enc.fit_transform(df[i].values.reshape(-1,1))"
   ]
  },
  {
   "cell_type": "code",
   "execution_count": 45,
   "id": "f93721fe",
   "metadata": {},
   "outputs": [
    {
     "data": {
      "text/html": [
       "<div>\n",
       "<style scoped>\n",
       "    .dataframe tbody tr th:only-of-type {\n",
       "        vertical-align: middle;\n",
       "    }\n",
       "\n",
       "    .dataframe tbody tr th {\n",
       "        vertical-align: top;\n",
       "    }\n",
       "\n",
       "    .dataframe thead th {\n",
       "        text-align: right;\n",
       "    }\n",
       "</style>\n",
       "<table border=\"1\" class=\"dataframe\">\n",
       "  <thead>\n",
       "    <tr style=\"text-align: right;\">\n",
       "      <th></th>\n",
       "      <th>customerID</th>\n",
       "      <th>gender</th>\n",
       "      <th>SeniorCitizen</th>\n",
       "      <th>Partner</th>\n",
       "      <th>Dependents</th>\n",
       "      <th>tenure</th>\n",
       "      <th>PhoneService</th>\n",
       "      <th>MultipleLines</th>\n",
       "      <th>InternetService</th>\n",
       "      <th>OnlineSecurity</th>\n",
       "      <th>...</th>\n",
       "      <th>DeviceProtection</th>\n",
       "      <th>TechSupport</th>\n",
       "      <th>StreamingTV</th>\n",
       "      <th>StreamingMovies</th>\n",
       "      <th>Contract</th>\n",
       "      <th>PaperlessBilling</th>\n",
       "      <th>PaymentMethod</th>\n",
       "      <th>MonthlyCharges</th>\n",
       "      <th>TotalCharges</th>\n",
       "      <th>Churn</th>\n",
       "    </tr>\n",
       "  </thead>\n",
       "  <tbody>\n",
       "    <tr>\n",
       "      <th>0</th>\n",
       "      <td>5375.0</td>\n",
       "      <td>0.0</td>\n",
       "      <td>0</td>\n",
       "      <td>1.0</td>\n",
       "      <td>0.0</td>\n",
       "      <td>1</td>\n",
       "      <td>0.0</td>\n",
       "      <td>1.0</td>\n",
       "      <td>0.0</td>\n",
       "      <td>0.0</td>\n",
       "      <td>...</td>\n",
       "      <td>0.0</td>\n",
       "      <td>0.0</td>\n",
       "      <td>0.0</td>\n",
       "      <td>0.0</td>\n",
       "      <td>0.0</td>\n",
       "      <td>1.0</td>\n",
       "      <td>2.0</td>\n",
       "      <td>29.85</td>\n",
       "      <td>2505.0</td>\n",
       "      <td>0.0</td>\n",
       "    </tr>\n",
       "    <tr>\n",
       "      <th>1</th>\n",
       "      <td>3962.0</td>\n",
       "      <td>1.0</td>\n",
       "      <td>0</td>\n",
       "      <td>0.0</td>\n",
       "      <td>0.0</td>\n",
       "      <td>34</td>\n",
       "      <td>1.0</td>\n",
       "      <td>0.0</td>\n",
       "      <td>0.0</td>\n",
       "      <td>2.0</td>\n",
       "      <td>...</td>\n",
       "      <td>2.0</td>\n",
       "      <td>0.0</td>\n",
       "      <td>0.0</td>\n",
       "      <td>0.0</td>\n",
       "      <td>1.0</td>\n",
       "      <td>0.0</td>\n",
       "      <td>3.0</td>\n",
       "      <td>56.95</td>\n",
       "      <td>1466.0</td>\n",
       "      <td>0.0</td>\n",
       "    </tr>\n",
       "    <tr>\n",
       "      <th>2</th>\n",
       "      <td>2564.0</td>\n",
       "      <td>1.0</td>\n",
       "      <td>0</td>\n",
       "      <td>0.0</td>\n",
       "      <td>0.0</td>\n",
       "      <td>2</td>\n",
       "      <td>1.0</td>\n",
       "      <td>0.0</td>\n",
       "      <td>0.0</td>\n",
       "      <td>2.0</td>\n",
       "      <td>...</td>\n",
       "      <td>0.0</td>\n",
       "      <td>0.0</td>\n",
       "      <td>0.0</td>\n",
       "      <td>0.0</td>\n",
       "      <td>0.0</td>\n",
       "      <td>1.0</td>\n",
       "      <td>3.0</td>\n",
       "      <td>53.85</td>\n",
       "      <td>157.0</td>\n",
       "      <td>1.0</td>\n",
       "    </tr>\n",
       "    <tr>\n",
       "      <th>3</th>\n",
       "      <td>5535.0</td>\n",
       "      <td>1.0</td>\n",
       "      <td>0</td>\n",
       "      <td>0.0</td>\n",
       "      <td>0.0</td>\n",
       "      <td>45</td>\n",
       "      <td>0.0</td>\n",
       "      <td>1.0</td>\n",
       "      <td>0.0</td>\n",
       "      <td>2.0</td>\n",
       "      <td>...</td>\n",
       "      <td>2.0</td>\n",
       "      <td>2.0</td>\n",
       "      <td>0.0</td>\n",
       "      <td>0.0</td>\n",
       "      <td>1.0</td>\n",
       "      <td>0.0</td>\n",
       "      <td>0.0</td>\n",
       "      <td>42.30</td>\n",
       "      <td>1400.0</td>\n",
       "      <td>0.0</td>\n",
       "    </tr>\n",
       "    <tr>\n",
       "      <th>4</th>\n",
       "      <td>6511.0</td>\n",
       "      <td>0.0</td>\n",
       "      <td>0</td>\n",
       "      <td>0.0</td>\n",
       "      <td>0.0</td>\n",
       "      <td>2</td>\n",
       "      <td>1.0</td>\n",
       "      <td>0.0</td>\n",
       "      <td>1.0</td>\n",
       "      <td>0.0</td>\n",
       "      <td>...</td>\n",
       "      <td>0.0</td>\n",
       "      <td>0.0</td>\n",
       "      <td>0.0</td>\n",
       "      <td>0.0</td>\n",
       "      <td>0.0</td>\n",
       "      <td>1.0</td>\n",
       "      <td>2.0</td>\n",
       "      <td>70.70</td>\n",
       "      <td>925.0</td>\n",
       "      <td>1.0</td>\n",
       "    </tr>\n",
       "    <tr>\n",
       "      <th>...</th>\n",
       "      <td>...</td>\n",
       "      <td>...</td>\n",
       "      <td>...</td>\n",
       "      <td>...</td>\n",
       "      <td>...</td>\n",
       "      <td>...</td>\n",
       "      <td>...</td>\n",
       "      <td>...</td>\n",
       "      <td>...</td>\n",
       "      <td>...</td>\n",
       "      <td>...</td>\n",
       "      <td>...</td>\n",
       "      <td>...</td>\n",
       "      <td>...</td>\n",
       "      <td>...</td>\n",
       "      <td>...</td>\n",
       "      <td>...</td>\n",
       "      <td>...</td>\n",
       "      <td>...</td>\n",
       "      <td>...</td>\n",
       "      <td>...</td>\n",
       "    </tr>\n",
       "    <tr>\n",
       "      <th>7038</th>\n",
       "      <td>4853.0</td>\n",
       "      <td>1.0</td>\n",
       "      <td>0</td>\n",
       "      <td>1.0</td>\n",
       "      <td>1.0</td>\n",
       "      <td>24</td>\n",
       "      <td>1.0</td>\n",
       "      <td>2.0</td>\n",
       "      <td>0.0</td>\n",
       "      <td>2.0</td>\n",
       "      <td>...</td>\n",
       "      <td>2.0</td>\n",
       "      <td>2.0</td>\n",
       "      <td>2.0</td>\n",
       "      <td>2.0</td>\n",
       "      <td>1.0</td>\n",
       "      <td>1.0</td>\n",
       "      <td>3.0</td>\n",
       "      <td>84.80</td>\n",
       "      <td>1597.0</td>\n",
       "      <td>0.0</td>\n",
       "    </tr>\n",
       "    <tr>\n",
       "      <th>7039</th>\n",
       "      <td>1525.0</td>\n",
       "      <td>0.0</td>\n",
       "      <td>0</td>\n",
       "      <td>1.0</td>\n",
       "      <td>1.0</td>\n",
       "      <td>72</td>\n",
       "      <td>1.0</td>\n",
       "      <td>2.0</td>\n",
       "      <td>1.0</td>\n",
       "      <td>0.0</td>\n",
       "      <td>...</td>\n",
       "      <td>2.0</td>\n",
       "      <td>0.0</td>\n",
       "      <td>2.0</td>\n",
       "      <td>2.0</td>\n",
       "      <td>1.0</td>\n",
       "      <td>1.0</td>\n",
       "      <td>1.0</td>\n",
       "      <td>103.20</td>\n",
       "      <td>5698.0</td>\n",
       "      <td>0.0</td>\n",
       "    </tr>\n",
       "    <tr>\n",
       "      <th>7040</th>\n",
       "      <td>3367.0</td>\n",
       "      <td>0.0</td>\n",
       "      <td>0</td>\n",
       "      <td>1.0</td>\n",
       "      <td>1.0</td>\n",
       "      <td>11</td>\n",
       "      <td>0.0</td>\n",
       "      <td>1.0</td>\n",
       "      <td>0.0</td>\n",
       "      <td>2.0</td>\n",
       "      <td>...</td>\n",
       "      <td>0.0</td>\n",
       "      <td>0.0</td>\n",
       "      <td>0.0</td>\n",
       "      <td>0.0</td>\n",
       "      <td>0.0</td>\n",
       "      <td>1.0</td>\n",
       "      <td>2.0</td>\n",
       "      <td>29.60</td>\n",
       "      <td>2994.0</td>\n",
       "      <td>0.0</td>\n",
       "    </tr>\n",
       "    <tr>\n",
       "      <th>7041</th>\n",
       "      <td>5934.0</td>\n",
       "      <td>1.0</td>\n",
       "      <td>1</td>\n",
       "      <td>1.0</td>\n",
       "      <td>0.0</td>\n",
       "      <td>4</td>\n",
       "      <td>1.0</td>\n",
       "      <td>2.0</td>\n",
       "      <td>1.0</td>\n",
       "      <td>0.0</td>\n",
       "      <td>...</td>\n",
       "      <td>0.0</td>\n",
       "      <td>0.0</td>\n",
       "      <td>0.0</td>\n",
       "      <td>0.0</td>\n",
       "      <td>0.0</td>\n",
       "      <td>1.0</td>\n",
       "      <td>3.0</td>\n",
       "      <td>74.40</td>\n",
       "      <td>2660.0</td>\n",
       "      <td>1.0</td>\n",
       "    </tr>\n",
       "    <tr>\n",
       "      <th>7042</th>\n",
       "      <td>2226.0</td>\n",
       "      <td>1.0</td>\n",
       "      <td>0</td>\n",
       "      <td>0.0</td>\n",
       "      <td>0.0</td>\n",
       "      <td>66</td>\n",
       "      <td>1.0</td>\n",
       "      <td>0.0</td>\n",
       "      <td>1.0</td>\n",
       "      <td>2.0</td>\n",
       "      <td>...</td>\n",
       "      <td>2.0</td>\n",
       "      <td>2.0</td>\n",
       "      <td>2.0</td>\n",
       "      <td>2.0</td>\n",
       "      <td>2.0</td>\n",
       "      <td>1.0</td>\n",
       "      <td>0.0</td>\n",
       "      <td>105.65</td>\n",
       "      <td>5407.0</td>\n",
       "      <td>0.0</td>\n",
       "    </tr>\n",
       "  </tbody>\n",
       "</table>\n",
       "<p>7043 rows × 21 columns</p>\n",
       "</div>"
      ],
      "text/plain": [
       "      customerID  gender  SeniorCitizen  Partner  Dependents  tenure  \\\n",
       "0         5375.0     0.0              0      1.0         0.0       1   \n",
       "1         3962.0     1.0              0      0.0         0.0      34   \n",
       "2         2564.0     1.0              0      0.0         0.0       2   \n",
       "3         5535.0     1.0              0      0.0         0.0      45   \n",
       "4         6511.0     0.0              0      0.0         0.0       2   \n",
       "...          ...     ...            ...      ...         ...     ...   \n",
       "7038      4853.0     1.0              0      1.0         1.0      24   \n",
       "7039      1525.0     0.0              0      1.0         1.0      72   \n",
       "7040      3367.0     0.0              0      1.0         1.0      11   \n",
       "7041      5934.0     1.0              1      1.0         0.0       4   \n",
       "7042      2226.0     1.0              0      0.0         0.0      66   \n",
       "\n",
       "      PhoneService  MultipleLines  InternetService  OnlineSecurity  ...  \\\n",
       "0              0.0            1.0              0.0             0.0  ...   \n",
       "1              1.0            0.0              0.0             2.0  ...   \n",
       "2              1.0            0.0              0.0             2.0  ...   \n",
       "3              0.0            1.0              0.0             2.0  ...   \n",
       "4              1.0            0.0              1.0             0.0  ...   \n",
       "...            ...            ...              ...             ...  ...   \n",
       "7038           1.0            2.0              0.0             2.0  ...   \n",
       "7039           1.0            2.0              1.0             0.0  ...   \n",
       "7040           0.0            1.0              0.0             2.0  ...   \n",
       "7041           1.0            2.0              1.0             0.0  ...   \n",
       "7042           1.0            0.0              1.0             2.0  ...   \n",
       "\n",
       "      DeviceProtection  TechSupport  StreamingTV  StreamingMovies  Contract  \\\n",
       "0                  0.0          0.0          0.0              0.0       0.0   \n",
       "1                  2.0          0.0          0.0              0.0       1.0   \n",
       "2                  0.0          0.0          0.0              0.0       0.0   \n",
       "3                  2.0          2.0          0.0              0.0       1.0   \n",
       "4                  0.0          0.0          0.0              0.0       0.0   \n",
       "...                ...          ...          ...              ...       ...   \n",
       "7038               2.0          2.0          2.0              2.0       1.0   \n",
       "7039               2.0          0.0          2.0              2.0       1.0   \n",
       "7040               0.0          0.0          0.0              0.0       0.0   \n",
       "7041               0.0          0.0          0.0              0.0       0.0   \n",
       "7042               2.0          2.0          2.0              2.0       2.0   \n",
       "\n",
       "      PaperlessBilling  PaymentMethod  MonthlyCharges  TotalCharges  Churn  \n",
       "0                  1.0            2.0           29.85        2505.0    0.0  \n",
       "1                  0.0            3.0           56.95        1466.0    0.0  \n",
       "2                  1.0            3.0           53.85         157.0    1.0  \n",
       "3                  0.0            0.0           42.30        1400.0    0.0  \n",
       "4                  1.0            2.0           70.70         925.0    1.0  \n",
       "...                ...            ...             ...           ...    ...  \n",
       "7038               1.0            3.0           84.80        1597.0    0.0  \n",
       "7039               1.0            1.0          103.20        5698.0    0.0  \n",
       "7040               1.0            2.0           29.60        2994.0    0.0  \n",
       "7041               1.0            3.0           74.40        2660.0    1.0  \n",
       "7042               1.0            0.0          105.65        5407.0    0.0  \n",
       "\n",
       "[7043 rows x 21 columns]"
      ]
     },
     "execution_count": 45,
     "metadata": {},
     "output_type": "execute_result"
    }
   ],
   "source": [
    "df"
   ]
  },
  {
   "cell_type": "code",
   "execution_count": 46,
   "id": "001e6fd2",
   "metadata": {},
   "outputs": [
    {
     "data": {
      "image/png": "[encoded data removed]",
      "text/plain": [
       "<Figure size 1440x720 with 2 Axes>"
      ]
     },
     "metadata": {},
     "output_type": "display_data"
    }
   ],
   "source": [
    "#Correlation Heat map\n",
    "\n",
    "corr = df.corr()\n",
    "plt.figure(figsize=(20,10), facecolor='white')\n",
    "sns.heatmap(corr, annot=True,cmap='coolwarm_r',fmt='.2f')\n",
    "plt.show()"
   ]
  },
  {
   "cell_type": "code",
   "execution_count": 47,
   "id": "9250d508",
   "metadata": {},
   "outputs": [],
   "source": [
    "#Multicolinearity is present in the dataset\n",
    "#Our target variable has the highest correlation with Contract followed by tenure.\n",
    "#Our target variable has least correlation with Gender and PhoneService"
   ]
  },
  {
   "cell_type": "code",
   "execution_count": 48,
   "id": "b80ff7da",
   "metadata": {},
   "outputs": [
    {
     "data": {
      "image/png": "[encoded data removed]",
      "text/plain": [
       "<Figure size 1584x504 with 1 Axes>"
      ]
     },
     "metadata": {
      "needs_background": "light"
     },
     "output_type": "display_data"
    }
   ],
   "source": [
    "#Visualization of correlation:\n",
    "\n",
    "plt.figure(figsize=(22,7))\n",
    "df.corr()['Churn'].sort_values(ascending=False).drop(['Churn']).plot(kind='bar',color='purple')\n",
    "plt.xlabel('Feature',fontsize=14)\n",
    "plt.ylabel(\"Column with target\",fontsize=14)\n",
    "plt.title(\"Correlation\",fontsize=18)\n",
    "plt.show()"
   ]
  },
  {
   "cell_type": "code",
   "execution_count": 49,
   "id": "066e97f4",
   "metadata": {},
   "outputs": [],
   "source": [
    "#Most correlated with MonthlyCharges, Paperless billing, Contract, tenure and Online Security.\n",
    "#Least Correlated with gender, PhoneService."
   ]
  },
  {
   "cell_type": "code",
   "execution_count": 50,
   "id": "1ed01bc6",
   "metadata": {},
   "outputs": [],
   "source": [
    "x = df.drop(\"Churn\",axis=1)\n",
    "y = df[\"Churn\"]"
   ]
  },
  {
   "cell_type": "code",
   "execution_count": 51,
   "id": "d7b6f977",
   "metadata": {},
   "outputs": [
    {
     "data": {
      "text/html": [
       "<div>\n",
       "<style scoped>\n",
       "    .dataframe tbody tr th:only-of-type {\n",
       "        vertical-align: middle;\n",
       "    }\n",
       "\n",
       "    .dataframe tbody tr th {\n",
       "        vertical-align: top;\n",
       "    }\n",
       "\n",
       "    .dataframe thead th {\n",
       "        text-align: right;\n",
       "    }\n",
       "</style>\n",
       "<table border=\"1\" class=\"dataframe\">\n",
       "  <thead>\n",
       "    <tr style=\"text-align: right;\">\n",
       "      <th></th>\n",
       "      <th>customerID</th>\n",
       "      <th>gender</th>\n",
       "      <th>SeniorCitizen</th>\n",
       "      <th>Partner</th>\n",
       "      <th>Dependents</th>\n",
       "      <th>tenure</th>\n",
       "      <th>PhoneService</th>\n",
       "      <th>MultipleLines</th>\n",
       "      <th>InternetService</th>\n",
       "      <th>OnlineSecurity</th>\n",
       "      <th>OnlineBackup</th>\n",
       "      <th>DeviceProtection</th>\n",
       "      <th>TechSupport</th>\n",
       "      <th>StreamingTV</th>\n",
       "      <th>StreamingMovies</th>\n",
       "      <th>Contract</th>\n",
       "      <th>PaperlessBilling</th>\n",
       "      <th>PaymentMethod</th>\n",
       "      <th>MonthlyCharges</th>\n",
       "      <th>TotalCharges</th>\n",
       "    </tr>\n",
       "  </thead>\n",
       "  <tbody>\n",
       "    <tr>\n",
       "      <th>0</th>\n",
       "      <td>5375.0</td>\n",
       "      <td>0.0</td>\n",
       "      <td>0</td>\n",
       "      <td>1.0</td>\n",
       "      <td>0.0</td>\n",
       "      <td>1</td>\n",
       "      <td>0.0</td>\n",
       "      <td>1.0</td>\n",
       "      <td>0.0</td>\n",
       "      <td>0.0</td>\n",
       "      <td>2.0</td>\n",
       "      <td>0.0</td>\n",
       "      <td>0.0</td>\n",
       "      <td>0.0</td>\n",
       "      <td>0.0</td>\n",
       "      <td>0.0</td>\n",
       "      <td>1.0</td>\n",
       "      <td>2.0</td>\n",
       "      <td>29.85</td>\n",
       "      <td>2505.0</td>\n",
       "    </tr>\n",
       "    <tr>\n",
       "      <th>1</th>\n",
       "      <td>3962.0</td>\n",
       "      <td>1.0</td>\n",
       "      <td>0</td>\n",
       "      <td>0.0</td>\n",
       "      <td>0.0</td>\n",
       "      <td>34</td>\n",
       "      <td>1.0</td>\n",
       "      <td>0.0</td>\n",
       "      <td>0.0</td>\n",
       "      <td>2.0</td>\n",
       "      <td>0.0</td>\n",
       "      <td>2.0</td>\n",
       "      <td>0.0</td>\n",
       "      <td>0.0</td>\n",
       "      <td>0.0</td>\n",
       "      <td>1.0</td>\n",
       "      <td>0.0</td>\n",
       "      <td>3.0</td>\n",
       "      <td>56.95</td>\n",
       "      <td>1466.0</td>\n",
       "    </tr>\n",
       "    <tr>\n",
       "      <th>2</th>\n",
       "      <td>2564.0</td>\n",
       "      <td>1.0</td>\n",
       "      <td>0</td>\n",
       "      <td>0.0</td>\n",
       "      <td>0.0</td>\n",
       "      <td>2</td>\n",
       "      <td>1.0</td>\n",
       "      <td>0.0</td>\n",
       "      <td>0.0</td>\n",
       "      <td>2.0</td>\n",
       "      <td>2.0</td>\n",
       "      <td>0.0</td>\n",
       "      <td>0.0</td>\n",
       "      <td>0.0</td>\n",
       "      <td>0.0</td>\n",
       "      <td>0.0</td>\n",
       "      <td>1.0</td>\n",
       "      <td>3.0</td>\n",
       "      <td>53.85</td>\n",
       "      <td>157.0</td>\n",
       "    </tr>\n",
       "    <tr>\n",
       "      <th>3</th>\n",
       "      <td>5535.0</td>\n",
       "      <td>1.0</td>\n",
       "      <td>0</td>\n",
       "      <td>0.0</td>\n",
       "      <td>0.0</td>\n",
       "      <td>45</td>\n",
       "      <td>0.0</td>\n",
       "      <td>1.0</td>\n",
       "      <td>0.0</td>\n",
       "      <td>2.0</td>\n",
       "      <td>0.0</td>\n",
       "      <td>2.0</td>\n",
       "      <td>2.0</td>\n",
       "      <td>0.0</td>\n",
       "      <td>0.0</td>\n",
       "      <td>1.0</td>\n",
       "      <td>0.0</td>\n",
       "      <td>0.0</td>\n",
       "      <td>42.30</td>\n",
       "      <td>1400.0</td>\n",
       "    </tr>\n",
       "    <tr>\n",
       "      <th>4</th>\n",
       "      <td>6511.0</td>\n",
       "      <td>0.0</td>\n",
       "      <td>0</td>\n",
       "      <td>0.0</td>\n",
       "      <td>0.0</td>\n",
       "      <td>2</td>\n",
       "      <td>1.0</td>\n",
       "      <td>0.0</td>\n",
       "      <td>1.0</td>\n",
       "      <td>0.0</td>\n",
       "      <td>0.0</td>\n",
       "      <td>0.0</td>\n",
       "      <td>0.0</td>\n",
       "      <td>0.0</td>\n",
       "      <td>0.0</td>\n",
       "      <td>0.0</td>\n",
       "      <td>1.0</td>\n",
       "      <td>2.0</td>\n",
       "      <td>70.70</td>\n",
       "      <td>925.0</td>\n",
       "    </tr>\n",
       "  </tbody>\n",
       "</table>\n",
       "</div>"
      ],
      "text/plain": [
       "   customerID  gender  SeniorCitizen  Partner  Dependents  tenure  \\\n",
       "0      5375.0     0.0              0      1.0         0.0       1   \n",
       "1      3962.0     1.0              0      0.0         0.0      34   \n",
       "2      2564.0     1.0              0      0.0         0.0       2   \n",
       "3      5535.0     1.0              0      0.0         0.0      45   \n",
       "4      6511.0     0.0              0      0.0         0.0       2   \n",
       "\n",
       "   PhoneService  MultipleLines  InternetService  OnlineSecurity  OnlineBackup  \\\n",
       "0           0.0            1.0              0.0             0.0           2.0   \n",
       "1           1.0            0.0              0.0             2.0           0.0   \n",
       "2           1.0            0.0              0.0             2.0           2.0   \n",
       "3           0.0            1.0              0.0             2.0           0.0   \n",
       "4           1.0            0.0              1.0             0.0           0.0   \n",
       "\n",
       "   DeviceProtection  TechSupport  StreamingTV  StreamingMovies  Contract  \\\n",
       "0               0.0          0.0          0.0              0.0       0.0   \n",
       "1               2.0          0.0          0.0              0.0       1.0   \n",
       "2               0.0          0.0          0.0              0.0       0.0   \n",
       "3               2.0          2.0          0.0              0.0       1.0   \n",
       "4               0.0          0.0          0.0              0.0       0.0   \n",
       "\n",
       "   PaperlessBilling  PaymentMethod  MonthlyCharges  TotalCharges  \n",
       "0               1.0            2.0           29.85        2505.0  \n",
       "1               0.0            3.0           56.95        1466.0  \n",
       "2               1.0            3.0           53.85         157.0  \n",
       "3               0.0            0.0           42.30        1400.0  \n",
       "4               1.0            2.0           70.70         925.0  "
      ]
     },
     "execution_count": 51,
     "metadata": {},
     "output_type": "execute_result"
    }
   ],
   "source": [
    "x.head()"
   ]
  },
  {
   "cell_type": "code",
   "execution_count": 52,
   "id": "436b3a10",
   "metadata": {},
   "outputs": [
    {
     "data": {
      "text/plain": [
       "(7043, 20)"
      ]
     },
     "execution_count": 52,
     "metadata": {},
     "output_type": "execute_result"
    }
   ],
   "source": [
    "x.shape"
   ]
  },
  {
   "cell_type": "code",
   "execution_count": 53,
   "id": "db043963",
   "metadata": {},
   "outputs": [
    {
     "data": {
      "text/plain": [
       "0    0.0\n",
       "1    0.0\n",
       "2    1.0\n",
       "3    0.0\n",
       "4    1.0\n",
       "Name: Churn, dtype: float64"
      ]
     },
     "execution_count": 53,
     "metadata": {},
     "output_type": "execute_result"
    }
   ],
   "source": [
    "y.head()"
   ]
  },
  {
   "cell_type": "code",
   "execution_count": 54,
   "id": "9f8a8e4c",
   "metadata": {},
   "outputs": [
    {
     "data": {
      "text/plain": [
       "(7043,)"
      ]
     },
     "execution_count": 54,
     "metadata": {},
     "output_type": "execute_result"
    }
   ],
   "source": [
    "y.shape"
   ]
  },
  {
   "cell_type": "code",
   "execution_count": 55,
   "id": "c67be41b",
   "metadata": {},
   "outputs": [],
   "source": [
    "#using Standard scaler to normalize the data\n",
    "\n",
    "from sklearn.preprocessing import StandardScaler\n",
    "\n",
    "ssc=StandardScaler()\n",
    "\n",
    "x= pd.DataFrame(ssc.fit_transform(x), columns=x.columns)"
   ]
  },
  {
   "cell_type": "code",
   "execution_count": 56,
   "id": "e9e01c78",
   "metadata": {},
   "outputs": [
    {
     "data": {
      "text/html": [
       "<div>\n",
       "<style scoped>\n",
       "    .dataframe tbody tr th:only-of-type {\n",
       "        vertical-align: middle;\n",
       "    }\n",
       "\n",
       "    .dataframe tbody tr th {\n",
       "        vertical-align: top;\n",
       "    }\n",
       "\n",
       "    .dataframe thead th {\n",
       "        text-align: right;\n",
       "    }\n",
       "</style>\n",
       "<table border=\"1\" class=\"dataframe\">\n",
       "  <thead>\n",
       "    <tr style=\"text-align: right;\">\n",
       "      <th></th>\n",
       "      <th>customerID</th>\n",
       "      <th>gender</th>\n",
       "      <th>SeniorCitizen</th>\n",
       "      <th>Partner</th>\n",
       "      <th>Dependents</th>\n",
       "      <th>tenure</th>\n",
       "      <th>PhoneService</th>\n",
       "      <th>MultipleLines</th>\n",
       "      <th>InternetService</th>\n",
       "      <th>OnlineSecurity</th>\n",
       "      <th>OnlineBackup</th>\n",
       "      <th>DeviceProtection</th>\n",
       "      <th>TechSupport</th>\n",
       "      <th>StreamingTV</th>\n",
       "      <th>StreamingMovies</th>\n",
       "      <th>Contract</th>\n",
       "      <th>PaperlessBilling</th>\n",
       "      <th>PaymentMethod</th>\n",
       "      <th>MonthlyCharges</th>\n",
       "      <th>TotalCharges</th>\n",
       "    </tr>\n",
       "  </thead>\n",
       "  <tbody>\n",
       "    <tr>\n",
       "      <th>0</th>\n",
       "      <td>0.911890</td>\n",
       "      <td>-1.009559</td>\n",
       "      <td>-0.439916</td>\n",
       "      <td>1.034530</td>\n",
       "      <td>-0.654012</td>\n",
       "      <td>-1.277445</td>\n",
       "      <td>-3.054010</td>\n",
       "      <td>0.062723</td>\n",
       "      <td>-1.183234</td>\n",
       "      <td>-0.918838</td>\n",
       "      <td>1.242550</td>\n",
       "      <td>-1.027910</td>\n",
       "      <td>-0.925262</td>\n",
       "      <td>-1.113495</td>\n",
       "      <td>-1.121405</td>\n",
       "      <td>-0.828207</td>\n",
       "      <td>0.829798</td>\n",
       "      <td>0.398558</td>\n",
       "      <td>-1.160323</td>\n",
       "      <td>-0.398608</td>\n",
       "    </tr>\n",
       "    <tr>\n",
       "      <th>1</th>\n",
       "      <td>0.216906</td>\n",
       "      <td>0.990532</td>\n",
       "      <td>-0.439916</td>\n",
       "      <td>-0.966622</td>\n",
       "      <td>-0.654012</td>\n",
       "      <td>0.066327</td>\n",
       "      <td>0.327438</td>\n",
       "      <td>-0.991588</td>\n",
       "      <td>-1.183234</td>\n",
       "      <td>1.407321</td>\n",
       "      <td>-1.029919</td>\n",
       "      <td>1.245111</td>\n",
       "      <td>-0.925262</td>\n",
       "      <td>-1.113495</td>\n",
       "      <td>-1.121405</td>\n",
       "      <td>0.371271</td>\n",
       "      <td>-1.205113</td>\n",
       "      <td>1.334863</td>\n",
       "      <td>-0.259629</td>\n",
       "      <td>-0.948762</td>\n",
       "    </tr>\n",
       "    <tr>\n",
       "      <th>2</th>\n",
       "      <td>-0.470701</td>\n",
       "      <td>0.990532</td>\n",
       "      <td>-0.439916</td>\n",
       "      <td>-0.966622</td>\n",
       "      <td>-0.654012</td>\n",
       "      <td>-1.236724</td>\n",
       "      <td>0.327438</td>\n",
       "      <td>-0.991588</td>\n",
       "      <td>-1.183234</td>\n",
       "      <td>1.407321</td>\n",
       "      <td>1.242550</td>\n",
       "      <td>-1.027910</td>\n",
       "      <td>-0.925262</td>\n",
       "      <td>-1.113495</td>\n",
       "      <td>-1.121405</td>\n",
       "      <td>-0.828207</td>\n",
       "      <td>0.829798</td>\n",
       "      <td>1.334863</td>\n",
       "      <td>-0.362660</td>\n",
       "      <td>-1.641883</td>\n",
       "    </tr>\n",
       "    <tr>\n",
       "      <th>3</th>\n",
       "      <td>0.990587</td>\n",
       "      <td>0.990532</td>\n",
       "      <td>-0.439916</td>\n",
       "      <td>-0.966622</td>\n",
       "      <td>-0.654012</td>\n",
       "      <td>0.514251</td>\n",
       "      <td>-3.054010</td>\n",
       "      <td>0.062723</td>\n",
       "      <td>-1.183234</td>\n",
       "      <td>1.407321</td>\n",
       "      <td>-1.029919</td>\n",
       "      <td>1.245111</td>\n",
       "      <td>1.396299</td>\n",
       "      <td>-1.113495</td>\n",
       "      <td>-1.121405</td>\n",
       "      <td>0.371271</td>\n",
       "      <td>-1.205113</td>\n",
       "      <td>-1.474052</td>\n",
       "      <td>-0.746535</td>\n",
       "      <td>-0.983710</td>\n",
       "    </tr>\n",
       "    <tr>\n",
       "      <th>4</th>\n",
       "      <td>1.470632</td>\n",
       "      <td>-1.009559</td>\n",
       "      <td>-0.439916</td>\n",
       "      <td>-0.966622</td>\n",
       "      <td>-0.654012</td>\n",
       "      <td>-1.236724</td>\n",
       "      <td>0.327438</td>\n",
       "      <td>-0.991588</td>\n",
       "      <td>0.172250</td>\n",
       "      <td>-0.918838</td>\n",
       "      <td>-1.029919</td>\n",
       "      <td>-1.027910</td>\n",
       "      <td>-0.925262</td>\n",
       "      <td>-1.113495</td>\n",
       "      <td>-1.121405</td>\n",
       "      <td>-0.828207</td>\n",
       "      <td>0.829798</td>\n",
       "      <td>0.398558</td>\n",
       "      <td>0.197365</td>\n",
       "      <td>-1.235224</td>\n",
       "    </tr>\n",
       "    <tr>\n",
       "      <th>...</th>\n",
       "      <td>...</td>\n",
       "      <td>...</td>\n",
       "      <td>...</td>\n",
       "      <td>...</td>\n",
       "      <td>...</td>\n",
       "      <td>...</td>\n",
       "      <td>...</td>\n",
       "      <td>...</td>\n",
       "      <td>...</td>\n",
       "      <td>...</td>\n",
       "      <td>...</td>\n",
       "      <td>...</td>\n",
       "      <td>...</td>\n",
       "      <td>...</td>\n",
       "      <td>...</td>\n",
       "      <td>...</td>\n",
       "      <td>...</td>\n",
       "      <td>...</td>\n",
       "      <td>...</td>\n",
       "      <td>...</td>\n",
       "    </tr>\n",
       "    <tr>\n",
       "      <th>7038</th>\n",
       "      <td>0.655145</td>\n",
       "      <td>0.990532</td>\n",
       "      <td>-0.439916</td>\n",
       "      <td>1.034530</td>\n",
       "      <td>1.529024</td>\n",
       "      <td>-0.340876</td>\n",
       "      <td>0.327438</td>\n",
       "      <td>1.117034</td>\n",
       "      <td>-1.183234</td>\n",
       "      <td>1.407321</td>\n",
       "      <td>-1.029919</td>\n",
       "      <td>1.245111</td>\n",
       "      <td>1.396299</td>\n",
       "      <td>1.146547</td>\n",
       "      <td>1.138411</td>\n",
       "      <td>0.371271</td>\n",
       "      <td>0.829798</td>\n",
       "      <td>1.334863</td>\n",
       "      <td>0.665992</td>\n",
       "      <td>-0.879397</td>\n",
       "    </tr>\n",
       "    <tr>\n",
       "      <th>7039</th>\n",
       "      <td>-0.981733</td>\n",
       "      <td>-1.009559</td>\n",
       "      <td>-0.439916</td>\n",
       "      <td>1.034530</td>\n",
       "      <td>1.529024</td>\n",
       "      <td>1.613701</td>\n",
       "      <td>0.327438</td>\n",
       "      <td>1.117034</td>\n",
       "      <td>0.172250</td>\n",
       "      <td>-0.918838</td>\n",
       "      <td>1.242550</td>\n",
       "      <td>1.245111</td>\n",
       "      <td>-0.925262</td>\n",
       "      <td>1.146547</td>\n",
       "      <td>1.138411</td>\n",
       "      <td>0.371271</td>\n",
       "      <td>0.829798</td>\n",
       "      <td>-0.537747</td>\n",
       "      <td>1.277533</td>\n",
       "      <td>1.292099</td>\n",
       "    </tr>\n",
       "    <tr>\n",
       "      <th>7040</th>\n",
       "      <td>-0.075745</td>\n",
       "      <td>-1.009559</td>\n",
       "      <td>-0.439916</td>\n",
       "      <td>1.034530</td>\n",
       "      <td>1.529024</td>\n",
       "      <td>-0.870241</td>\n",
       "      <td>-3.054010</td>\n",
       "      <td>0.062723</td>\n",
       "      <td>-1.183234</td>\n",
       "      <td>1.407321</td>\n",
       "      <td>-1.029919</td>\n",
       "      <td>-1.027910</td>\n",
       "      <td>-0.925262</td>\n",
       "      <td>-1.113495</td>\n",
       "      <td>-1.121405</td>\n",
       "      <td>-0.828207</td>\n",
       "      <td>0.829798</td>\n",
       "      <td>0.398558</td>\n",
       "      <td>-1.168632</td>\n",
       "      <td>-0.139680</td>\n",
       "    </tr>\n",
       "    <tr>\n",
       "      <th>7041</th>\n",
       "      <td>1.186835</td>\n",
       "      <td>0.990532</td>\n",
       "      <td>2.273159</td>\n",
       "      <td>1.034530</td>\n",
       "      <td>-0.654012</td>\n",
       "      <td>-1.155283</td>\n",
       "      <td>0.327438</td>\n",
       "      <td>1.117034</td>\n",
       "      <td>0.172250</td>\n",
       "      <td>-0.918838</td>\n",
       "      <td>-1.029919</td>\n",
       "      <td>-1.027910</td>\n",
       "      <td>-0.925262</td>\n",
       "      <td>-1.113495</td>\n",
       "      <td>-1.121405</td>\n",
       "      <td>-0.828207</td>\n",
       "      <td>0.829798</td>\n",
       "      <td>1.334863</td>\n",
       "      <td>0.320338</td>\n",
       "      <td>-0.316534</td>\n",
       "    </tr>\n",
       "    <tr>\n",
       "      <th>7042</th>\n",
       "      <td>-0.636946</td>\n",
       "      <td>0.990532</td>\n",
       "      <td>-0.439916</td>\n",
       "      <td>-0.966622</td>\n",
       "      <td>-0.654012</td>\n",
       "      <td>1.369379</td>\n",
       "      <td>0.327438</td>\n",
       "      <td>-0.991588</td>\n",
       "      <td>0.172250</td>\n",
       "      <td>1.407321</td>\n",
       "      <td>-1.029919</td>\n",
       "      <td>1.245111</td>\n",
       "      <td>1.396299</td>\n",
       "      <td>1.146547</td>\n",
       "      <td>1.138411</td>\n",
       "      <td>1.570749</td>\n",
       "      <td>0.829798</td>\n",
       "      <td>-1.474052</td>\n",
       "      <td>1.358961</td>\n",
       "      <td>1.138013</td>\n",
       "    </tr>\n",
       "  </tbody>\n",
       "</table>\n",
       "<p>7043 rows × 20 columns</p>\n",
       "</div>"
      ],
      "text/plain": [
       "      customerID    gender  SeniorCitizen   Partner  Dependents    tenure  \\\n",
       "0       0.911890 -1.009559      -0.439916  1.034530   -0.654012 -1.277445   \n",
       "1       0.216906  0.990532      -0.439916 -0.966622   -0.654012  0.066327   \n",
       "2      -0.470701  0.990532      -0.439916 -0.966622   -0.654012 -1.236724   \n",
       "3       0.990587  0.990532      -0.439916 -0.966622   -0.654012  0.514251   \n",
       "4       1.470632 -1.009559      -0.439916 -0.966622   -0.654012 -1.236724   \n",
       "...          ...       ...            ...       ...         ...       ...   \n",
       "7038    0.655145  0.990532      -0.439916  1.034530    1.529024 -0.340876   \n",
       "7039   -0.981733 -1.009559      -0.439916  1.034530    1.529024  1.613701   \n",
       "7040   -0.075745 -1.009559      -0.439916  1.034530    1.529024 -0.870241   \n",
       "7041    1.186835  0.990532       2.273159  1.034530   -0.654012 -1.155283   \n",
       "7042   -0.636946  0.990532      -0.439916 -0.966622   -0.654012  1.369379   \n",
       "\n",
       "      PhoneService  MultipleLines  InternetService  OnlineSecurity  \\\n",
       "0        -3.054010       0.062723        -1.183234       -0.918838   \n",
       "1         0.327438      -0.991588        -1.183234        1.407321   \n",
       "2         0.327438      -0.991588        -1.183234        1.407321   \n",
       "3        -3.054010       0.062723        -1.183234        1.407321   \n",
       "4         0.327438      -0.991588         0.172250       -0.918838   \n",
       "...            ...            ...              ...             ...   \n",
       "7038      0.327438       1.117034        -1.183234        1.407321   \n",
       "7039      0.327438       1.117034         0.172250       -0.918838   \n",
       "7040     -3.054010       0.062723        -1.183234        1.407321   \n",
       "7041      0.327438       1.117034         0.172250       -0.918838   \n",
       "7042      0.327438      -0.991588         0.172250        1.407321   \n",
       "\n",
       "      OnlineBackup  DeviceProtection  TechSupport  StreamingTV  \\\n",
       "0         1.242550         -1.027910    -0.925262    -1.113495   \n",
       "1        -1.029919          1.245111    -0.925262    -1.113495   \n",
       "2         1.242550         -1.027910    -0.925262    -1.113495   \n",
       "3        -1.029919          1.245111     1.396299    -1.113495   \n",
       "4        -1.029919         -1.027910    -0.925262    -1.113495   \n",
       "...            ...               ...          ...          ...   \n",
       "7038     -1.029919          1.245111     1.396299     1.146547   \n",
       "7039      1.242550          1.245111    -0.925262     1.146547   \n",
       "7040     -1.029919         -1.027910    -0.925262    -1.113495   \n",
       "7041     -1.029919         -1.027910    -0.925262    -1.113495   \n",
       "7042     -1.029919          1.245111     1.396299     1.146547   \n",
       "\n",
       "      StreamingMovies  Contract  PaperlessBilling  PaymentMethod  \\\n",
       "0           -1.121405 -0.828207          0.829798       0.398558   \n",
       "1           -1.121405  0.371271         -1.205113       1.334863   \n",
       "2           -1.121405 -0.828207          0.829798       1.334863   \n",
       "3           -1.121405  0.371271         -1.205113      -1.474052   \n",
       "4           -1.121405 -0.828207          0.829798       0.398558   \n",
       "...               ...       ...               ...            ...   \n",
       "7038         1.138411  0.371271          0.829798       1.334863   \n",
       "7039         1.138411  0.371271          0.829798      -0.537747   \n",
       "7040        -1.121405 -0.828207          0.829798       0.398558   \n",
       "7041        -1.121405 -0.828207          0.829798       1.334863   \n",
       "7042         1.138411  1.570749          0.829798      -1.474052   \n",
       "\n",
       "      MonthlyCharges  TotalCharges  \n",
       "0          -1.160323     -0.398608  \n",
       "1          -0.259629     -0.948762  \n",
       "2          -0.362660     -1.641883  \n",
       "3          -0.746535     -0.983710  \n",
       "4           0.197365     -1.235224  \n",
       "...              ...           ...  \n",
       "7038        0.665992     -0.879397  \n",
       "7039        1.277533      1.292099  \n",
       "7040       -1.168632     -0.139680  \n",
       "7041        0.320338     -0.316534  \n",
       "7042        1.358961      1.138013  \n",
       "\n",
       "[7043 rows x 20 columns]"
      ]
     },
     "execution_count": 56,
     "metadata": {},
     "output_type": "execute_result"
    }
   ],
   "source": [
    "x"
   ]
  },
  {
   "cell_type": "code",
   "execution_count": 57,
   "id": "18962b7c",
   "metadata": {},
   "outputs": [],
   "source": [
    "#Checking Multicollinearity\n",
    "\n",
    "from statsmodels.stats.outliers_influence import variance_inflation_factor\n",
    "\n",
    "def vif_calc():\n",
    "    vif=pd.DataFrame()\n",
    "    vif[\"VIF Factor\"]=[variance_inflation_factor(x.values,i) for i in range(x.shape[1])]\n",
    "    vif[\"features\"]=x.columns\n",
    "    print(vif)"
   ]
  },
  {
   "cell_type": "code",
   "execution_count": 58,
   "id": "fb669d11",
   "metadata": {},
   "outputs": [
    {
     "name": "stdout",
     "output_type": "stream",
     "text": [
      "    VIF Factor          features\n",
      "0     1.002435        customerID\n",
      "1     1.001719            gender\n",
      "2     1.149739     SeniorCitizen\n",
      "3     1.461981           Partner\n",
      "4     1.382218        Dependents\n",
      "5     2.754763            tenure\n",
      "6     1.622292      PhoneService\n",
      "7     1.392868     MultipleLines\n",
      "8     1.826783   InternetService\n",
      "9     1.248006    OnlineSecurity\n",
      "10    1.186400      OnlineBackup\n",
      "11    1.280351  DeviceProtection\n",
      "12    1.303611       TechSupport\n",
      "13    1.443673       StreamingTV\n",
      "14    1.442829   StreamingMovies\n",
      "15    2.475214          Contract\n",
      "16    1.203898  PaperlessBilling\n",
      "17    1.181360     PaymentMethod\n",
      "18    2.830601    MonthlyCharges\n",
      "19    1.108741      TotalCharges\n"
     ]
    }
   ],
   "source": [
    "\n",
    "vif_calc()"
   ]
  },
  {
   "cell_type": "code",
   "execution_count": 59,
   "id": "6d36491f",
   "metadata": {},
   "outputs": [],
   "source": [
    "#Droping highly VIF column\n",
    "\n",
    "x = x.drop([\"TotalCharges\"],axis=1)"
   ]
  },
  {
   "cell_type": "code",
   "execution_count": 60,
   "id": "1c98a0de",
   "metadata": {},
   "outputs": [
    {
     "name": "stdout",
     "output_type": "stream",
     "text": [
      "    VIF Factor          features\n",
      "0     1.002428        customerID\n",
      "1     1.001718            gender\n",
      "2     1.149640     SeniorCitizen\n",
      "3     1.461971           Partner\n",
      "4     1.382123        Dependents\n",
      "5     2.754697            tenure\n",
      "6     1.622284      PhoneService\n",
      "7     1.391687     MultipleLines\n",
      "8     1.825990   InternetService\n",
      "9     1.247812    OnlineSecurity\n",
      "10    1.185973      OnlineBackup\n",
      "11    1.280227  DeviceProtection\n",
      "12    1.303607       TechSupport\n",
      "13    1.443673       StreamingTV\n",
      "14    1.442619   StreamingMovies\n",
      "15    2.460025          Contract\n",
      "16    1.202921  PaperlessBilling\n",
      "17    1.180965     PaymentMethod\n",
      "18    2.733037    MonthlyCharges\n"
     ]
    }
   ],
   "source": [
    "vif_calc()"
   ]
  },
  {
   "cell_type": "code",
   "execution_count": 61,
   "id": "16bb34bf",
   "metadata": {},
   "outputs": [
    {
     "name": "stdout",
     "output_type": "stream",
     "text": [
      "0.0    5174\n",
      "1.0    1869\n",
      "Name: Churn, dtype: int64\n"
     ]
    },
    {
     "data": {
      "text/plain": [
       "<AxesSubplot:xlabel='Churn', ylabel='count'>"
      ]
     },
     "execution_count": 61,
     "metadata": {},
     "output_type": "execute_result"
    },
    {
     "data": {
      "image/png": "[encoded data removed]",
      "text/plain": [
       "<Figure size 432x288 with 1 Axes>"
      ]
     },
     "metadata": {
      "needs_background": "light"
     },
     "output_type": "display_data"
    }
   ],
   "source": [
    "#Checking the count of Loan_Status\n",
    "\n",
    "print(y.value_counts())\n",
    "sns.countplot(y)"
   ]
  },
  {
   "cell_type": "code",
   "execution_count": 62,
   "id": "610bafd2",
   "metadata": {},
   "outputs": [],
   "source": [
    "#Importing SMOTE and using it to balance\n",
    "\n",
    "from imblearn.over_sampling import SMOTE\n",
    "\n",
    "smt = SMOTE()\n",
    "x,y = smt.fit_resample(x,y)"
   ]
  },
  {
   "cell_type": "code",
   "execution_count": 63,
   "id": "5c16cbaa",
   "metadata": {},
   "outputs": [
    {
     "name": "stdout",
     "output_type": "stream",
     "text": [
      "0.0    5174\n",
      "1.0    5174\n",
      "Name: Churn, dtype: int64\n"
     ]
    },
    {
     "data": {
      "text/plain": [
       "<AxesSubplot:xlabel='Churn', ylabel='count'>"
      ]
     },
     "execution_count": 63,
     "metadata": {},
     "output_type": "execute_result"
    },
    {
     "data": {
      "image/png": "[encoded data removed]",
      "text/plain": [
       "<Figure size 432x288 with 1 Axes>"
      ]
     },
     "metadata": {
      "needs_background": "light"
     },
     "output_type": "display_data"
    }
   ],
   "source": [
    "#Rechecking the count of Loan_Status\n",
    "\n",
    "print(y.value_counts())\n",
    "sns.countplot(y)"
   ]
  },
  {
   "cell_type": "markdown",
   "id": "ed4e98fd",
   "metadata": {},
   "source": [
    "# Models:"
   ]
  },
  {
   "cell_type": "code",
   "execution_count": 64,
   "id": "b1fa0523",
   "metadata": {},
   "outputs": [],
   "source": [
    "#Importing Ml Libraries\n",
    "\n",
    "from sklearn.model_selection import train_test_split\n",
    "from sklearn.metrics import classification_report, roc_curve, roc_auc_score, accuracy_score\n",
    "from sklearn.metrics import classification_report\n",
    "from sklearn.model_selection import GridSearchCV\n",
    "from sklearn.tree import DecisionTreeClassifier\n",
    "from sklearn.linear_model import LogisticRegression\n",
    "from sklearn.svm import SVC\n",
    "from sklearn.neighbors import KNeighborsClassifier\n",
    "from sklearn.ensemble import RandomForestClassifier\n",
    "from sklearn.model_selection import cross_val_score\n",
    "from sklearn.metrics import make_scorer, recall_score, confusion_matrix, \\\n",
    "precision_score, f1_score, accuracy_score, classification_report"
   ]
  },
  {
   "cell_type": "markdown",
   "id": "6672e4ee",
   "metadata": {},
   "source": [
    "# Logistic Regression:"
   ]
  },
  {
   "cell_type": "code",
   "execution_count": 65,
   "id": "e9b9c9c9",
   "metadata": {},
   "outputs": [
    {
     "name": "stdout",
     "output_type": "stream",
     "text": [
      "Best accuracy is  0.7900161030595814  on Random_state  92\n"
     ]
    }
   ],
   "source": [
    "#Finding the Best Random State\n",
    "\n",
    "Accu=0\n",
    "RS=0\n",
    "for i in range(1,100):\n",
    "    x_train,x_test,y_train,y_test = train_test_split(x,y,test_size=.30, random_state =i)\n",
    "    lr=LogisticRegression()\n",
    "    lr.fit(x_train, y_train)\n",
    "    pred = lr.predict(x_test)\n",
    "    acc=accuracy_score(y_test, pred)\n",
    "    if acc>Accu:\n",
    "        Accu=acc\n",
    "        RS=i\n",
    "print(\"Best accuracy is \",Accu,\" on Random_state \",RS)"
   ]
  },
  {
   "cell_type": "code",
   "execution_count": 66,
   "id": "7318ce01",
   "metadata": {},
   "outputs": [
    {
     "name": "stdout",
     "output_type": "stream",
     "text": [
      "Accuracy score of Logistic Regression is:\n",
      "0.7900161030595814\n",
      "[[1181  389]\n",
      " [ 263 1272]]\n",
      "              precision    recall  f1-score   support\n",
      "\n",
      "         0.0       0.82      0.75      0.78      1570\n",
      "         1.0       0.77      0.83      0.80      1535\n",
      "\n",
      "    accuracy                           0.79      3105\n",
      "   macro avg       0.79      0.79      0.79      3105\n",
      "weighted avg       0.79      0.79      0.79      3105\n",
      "\n"
     ]
    }
   ],
   "source": [
    "x_train,x_test,y_train,y_test = train_test_split(x,y,test_size=.30, random_state =RS)\n",
    "\n",
    "lr=LogisticRegression()\n",
    "\n",
    "lr.fit(x_train,y_train)\n",
    "lr.score(x_train,y_train)\n",
    "pred_lr=lr.predict(x_test)\n",
    "print('Accuracy score of Logistic Regression is:')\n",
    "print(accuracy_score(y_test,pred_lr))\n",
    "print(confusion_matrix(y_test,pred_lr))\n",
    "print(classification_report(y_test,pred_lr))"
   ]
  },
  {
   "cell_type": "code",
   "execution_count": 67,
   "id": "1c10b232",
   "metadata": {},
   "outputs": [
    {
     "name": "stdout",
     "output_type": "stream",
     "text": [
      "{'C': 0.001, 'penalty': 'none', 'solver': 'newton-cg'}\n",
      "0.7755153017981101\n"
     ]
    }
   ],
   "source": [
    "#HyperParameter Tuning of LR\n",
    "\n",
    "x_train,x_test,y_train,y_test=train_test_split(x,y,test_size=.30,random_state=RS)\n",
    "\n",
    "lr_grid_param={'solver': ['newton-cg', 'lbfgs', 'liblinear', 'sag', 'saga'],\n",
    "               'penalty':['none', 'elasticnet', 'l1', 'l2'],\n",
    "               'C':[0.001, 0.01, 0.1, 1, 10, 100]}\n",
    "\n",
    "gd_sr=GridSearchCV(estimator=lr,param_grid=lr_grid_param,cv=5,verbose=0)\n",
    "\n",
    "gd_sr.fit(x,y)\n",
    "\n",
    "best_parameters=gd_sr.best_params_\n",
    "print(best_parameters)\n",
    "\n",
    "print(gd_sr.best_score_)"
   ]
  },
  {
   "cell_type": "code",
   "execution_count": 68,
   "id": "60d45128",
   "metadata": {},
   "outputs": [
    {
     "name": "stdout",
     "output_type": "stream",
     "text": [
      "Accuracy score of Logistic Regression is:\n",
      "0.7916264090177134\n",
      "[[1178  392]\n",
      " [ 255 1280]]\n",
      "              precision    recall  f1-score   support\n",
      "\n",
      "         0.0       0.82      0.75      0.78      1570\n",
      "         1.0       0.77      0.83      0.80      1535\n",
      "\n",
      "    accuracy                           0.79      3105\n",
      "   macro avg       0.79      0.79      0.79      3105\n",
      "weighted avg       0.79      0.79      0.79      3105\n",
      "\n"
     ]
    }
   ],
   "source": [
    "#Reinstating the tuned parameters:\n",
    "\n",
    "\n",
    "lr=LogisticRegression(C=0.01,solver='newton-cg',penalty='l2')\n",
    "\n",
    "lr.fit(x_train,y_train)\n",
    "lr.score(x_train,y_train)\n",
    "predlr=lr.predict(x_test)\n",
    "print('Accuracy score of Logistic Regression is:')\n",
    "print(accuracy_score(y_test,predlr))\n",
    "print(confusion_matrix(y_test,predlr))\n",
    "print(classification_report(y_test,predlr))"
   ]
  },
  {
   "cell_type": "code",
   "execution_count": 69,
   "id": "92313d8d",
   "metadata": {},
   "outputs": [
    {
     "data": {
      "image/png": "[encoded data removed]",
      "text/plain": [
       "<Figure size 432x360 with 2 Axes>"
      ]
     },
     "metadata": {
      "needs_background": "light"
     },
     "output_type": "display_data"
    }
   ],
   "source": [
    "#Plotting the confusion Matrix,took predicted values from model without hyperparameter tuning\n",
    "\n",
    "cm = confusion_matrix(y_test, predlr)\n",
    "\n",
    "x_axis_labels = [\"0\",\"1\"]\n",
    "y_axis_labels = [\"0\",\"1\"]\n",
    "\n",
    "f, ax = plt.subplots(figsize =(6,5))\n",
    "sns.heatmap(cm, annot = True, linewidths=0.2, linecolor=\"black\", fmt = \".0f\", ax=ax, cmap=\"Purples\", xticklabels=x_axis_labels, yticklabels=y_axis_labels)\n",
    "plt.xlabel(\"Predicted Value\")\n",
    "plt.ylabel(\"Actual Value\")\n",
    "plt.title('Confusion Matrix for Logistic Regression')\n",
    "plt.show()"
   ]
  },
  {
   "cell_type": "markdown",
   "id": "c9562461",
   "metadata": {},
   "source": [
    "# Decision Tree Classifier:"
   ]
  },
  {
   "cell_type": "code",
   "execution_count": 70,
   "id": "84a6a7b8",
   "metadata": {},
   "outputs": [
    {
     "name": "stdout",
     "output_type": "stream",
     "text": [
      "Best accuracy is  0.8048309178743961  on Random_state  40\n"
     ]
    }
   ],
   "source": [
    "#Finding the best Randomstate:\n",
    "\n",
    "Accu=0\n",
    "RS=0\n",
    "for i in range(1,100):\n",
    "    x_train,x_test,y_train,y_test = train_test_split(x,y,test_size=.30, random_state =i)\n",
    "    dt = DecisionTreeClassifier()\n",
    "    dt.fit(x_train, y_train)\n",
    "    pred = dt.predict(x_test)\n",
    "    acc=accuracy_score(y_test, pred)\n",
    "    if acc>Accu:\n",
    "        Accu=acc\n",
    "        RS=i\n",
    "print(\"Best accuracy is \",Accu,\" on Random_state \",RS)"
   ]
  },
  {
   "cell_type": "code",
   "execution_count": 71,
   "id": "0d90cdba",
   "metadata": {},
   "outputs": [
    {
     "name": "stdout",
     "output_type": "stream",
     "text": [
      "0.8022544283413848\n",
      "[[1205  303]\n",
      " [ 311 1286]]\n",
      "              precision    recall  f1-score   support\n",
      "\n",
      "         0.0       0.79      0.80      0.80      1508\n",
      "         1.0       0.81      0.81      0.81      1597\n",
      "\n",
      "    accuracy                           0.80      3105\n",
      "   macro avg       0.80      0.80      0.80      3105\n",
      "weighted avg       0.80      0.80      0.80      3105\n",
      "\n"
     ]
    }
   ],
   "source": [
    "x_train,x_test,y_train,y_test = train_test_split(x,y,test_size=.30, random_state =RS)\n",
    "\n",
    "dtc=DecisionTreeClassifier()\n",
    "dtc.fit(x_train,y_train)\n",
    "dtc.score(x_train,y_train)\n",
    "pred_dtc=dtc.predict(x_test)\n",
    "print(accuracy_score(y_test,pred_dtc))\n",
    "print(confusion_matrix(y_test,pred_dtc))\n",
    "print(classification_report(y_test,pred_dtc))"
   ]
  },
  {
   "cell_type": "code",
   "execution_count": 72,
   "id": "59c1c3dd",
   "metadata": {},
   "outputs": [
    {
     "name": "stdout",
     "output_type": "stream",
     "text": [
      "GridSearchCV(cv=5, estimator=DecisionTreeClassifier(),\n",
      "             param_grid={'criterion': ['gini', 'entropy'],\n",
      "                         'max_depth': array([ 0,  1,  2,  3,  4,  5,  6,  7,  8,  9, 10, 11, 12, 13, 14, 15, 16,\n",
      "       17, 18, 19, 20, 21, 22, 23, 24, 25, 26, 27, 28, 29, 30, 31, 32, 33,\n",
      "       34, 35, 36, 37, 38, 39, 40, 41, 42, 43, 44, 45, 46, 47, 48, 49]),\n",
      "                         'max_features': ['auto', 'sqrt', 'log2'],\n",
      "                         'max_leaf_nodes': [10, 20, 30],\n",
      "                         'min_samples_leaf': [5, 10, 20, 50, 100]},\n",
      "             scoring='accuracy')\n",
      "0.7850855158855243\n",
      "DecisionTreeClassifier(max_depth=32, max_features='log2', max_leaf_nodes=30,\n",
      "                       min_samples_leaf=5)\n",
      "{'criterion': 'gini', 'max_depth': 32, 'max_features': 'log2', 'max_leaf_nodes': 30, 'min_samples_leaf': 5}\n"
     ]
    }
   ],
   "source": [
    "#HyperParameter Tuning for DTC\n",
    "\n",
    "x_train,x_test,y_train,y_test=train_test_split(x,y,test_size=.30,random_state=RS)\n",
    "\n",
    "dtc= DecisionTreeClassifier()\n",
    "dt_grid_param={'criterion':['gini','entropy'],\n",
    "             'max_depth':np.arange(0,50),\n",
    "             'max_features':[\"auto\",\"sqrt\",\"log2\"],\n",
    "             'max_leaf_nodes':[10,20,30],'min_samples_leaf': [5, 10, 20, 50, 100]}\n",
    "\n",
    "gd_sr=GridSearchCV(estimator=dtc,param_grid=dt_grid_param,scoring='accuracy',cv=5,verbose=0)\n",
    "\n",
    "gd_sr.fit(x,y)\n",
    "\n",
    "best_parameters=gd_sr.best_params_\n",
    "print(gd_sr)\n",
    "print(gd_sr.best_score_)\n",
    "print(gd_sr.best_estimator_)\n",
    "print(gd_sr.best_params_)"
   ]
  },
  {
   "cell_type": "code",
   "execution_count": 73,
   "id": "f21c33d3",
   "metadata": {},
   "outputs": [
    {
     "name": "stdout",
     "output_type": "stream",
     "text": [
      "0.792914653784219\n",
      "[[1202  306]\n",
      " [ 337 1260]]\n",
      "              precision    recall  f1-score   support\n",
      "\n",
      "         0.0       0.78      0.80      0.79      1508\n",
      "         1.0       0.80      0.79      0.80      1597\n",
      "\n",
      "    accuracy                           0.79      3105\n",
      "   macro avg       0.79      0.79      0.79      3105\n",
      "weighted avg       0.79      0.79      0.79      3105\n",
      "\n"
     ]
    }
   ],
   "source": [
    "#Reinstating the tuned parameters:\n",
    "\n",
    "dtc_H=DecisionTreeClassifier(criterion='gini',max_depth=36,max_features='auto',\n",
    "                           max_leaf_nodes=30, min_samples_leaf=5)\n",
    "dtc_H.fit(x_train,y_train)\n",
    "dtc_H.score(x_train,y_train)\n",
    "preddtc=dtc_H.predict(x_test)\n",
    "print(accuracy_score(y_test,preddtc))\n",
    "print(confusion_matrix(y_test,preddtc))\n",
    "print(classification_report(y_test,preddtc))"
   ]
  },
  {
   "cell_type": "code",
   "execution_count": 74,
   "id": "78ed61d7",
   "metadata": {},
   "outputs": [
    {
     "data": {
      "image/png": "[encoded data removed]",
      "text/plain": [
       "<Figure size 432x360 with 2 Axes>"
      ]
     },
     "metadata": {
      "needs_background": "light"
     },
     "output_type": "display_data"
    }
   ],
   "source": [
    "#Plotting the confusion Matrix\n",
    "\n",
    "cm = confusion_matrix(y_test, pred_dtc)\n",
    "\n",
    "x_axis_labels = [\"0\",\"1\"]\n",
    "y_axis_labels = [\"0\",\"1\"]\n",
    "\n",
    "f, ax = plt.subplots(figsize =(6,5))\n",
    "sns.heatmap(cm, annot = True, linewidths=0.2, linecolor=\"black\", fmt = \".0f\", ax=ax, cmap=\"Purples\", xticklabels=x_axis_labels, yticklabels=y_axis_labels)\n",
    "plt.xlabel(\"Predicted Value\")\n",
    "plt.ylabel(\"Actual Value\")\n",
    "plt.title('Confusion Matrix for DecisionTree Classifier')\n",
    "plt.show()"
   ]
  },
  {
   "cell_type": "markdown",
   "id": "940ead79",
   "metadata": {},
   "source": [
    "# SVC:"
   ]
  },
  {
   "cell_type": "code",
   "execution_count": 75,
   "id": "eabaccb1",
   "metadata": {},
   "outputs": [
    {
     "name": "stdout",
     "output_type": "stream",
     "text": [
      "Best accuracy is  0.822866344605475  on Random_state  59\n"
     ]
    }
   ],
   "source": [
    "#Finding the best random state:\n",
    "\n",
    "Accu=0\n",
    "RS=0\n",
    "for i in range(1,100):\n",
    "    x_train,x_test,y_train,y_test = train_test_split(x,y,test_size=.30, random_state =i)\n",
    "    sv=SVC()\n",
    "    sv.fit(x_train, y_train)\n",
    "    pred = sv.predict(x_test)\n",
    "    acc=accuracy_score(y_test, pred)\n",
    "    if acc>Accu:\n",
    "        Accu=acc\n",
    "        RS=i\n",
    "print(\"Best accuracy is \",Accu,\" on Random_state \",RS)"
   ]
  },
  {
   "cell_type": "code",
   "execution_count": 76,
   "id": "35340a20",
   "metadata": {},
   "outputs": [],
   "source": [
    " #Calling each kernel by defining svmkernel:\n",
    "\n",
    "x_train,x_test,y_train,y_test = train_test_split(x,y,test_size=.30, random_state = RS)\n",
    "\n",
    "def svmkernel(ker):\n",
    "    svc=SVC(kernel=ker)\n",
    "    svc.fit(x_train,y_train)\n",
    "    svc.score(x_train,y_train)\n",
    "    predsvc=svc.predict(x_test)\n",
    "    print(accuracy_score(y_test,predsvc))\n",
    "    print(confusion_matrix(y_test,predsvc))\n",
    "    print(classification_report(y_test,predsvc))"
   ]
  },
  {
   "cell_type": "code",
   "execution_count": 77,
   "id": "204c117f",
   "metadata": {},
   "outputs": [
    {
     "name": "stdout",
     "output_type": "stream",
     "text": [
      "0.7835748792270532\n",
      "[[1128  404]\n",
      " [ 268 1305]]\n",
      "              precision    recall  f1-score   support\n",
      "\n",
      "         0.0       0.81      0.74      0.77      1532\n",
      "         1.0       0.76      0.83      0.80      1573\n",
      "\n",
      "    accuracy                           0.78      3105\n",
      "   macro avg       0.79      0.78      0.78      3105\n",
      "weighted avg       0.79      0.78      0.78      3105\n",
      "\n"
     ]
    }
   ],
   "source": [
    "svmkernel('linear')"
   ]
  },
  {
   "cell_type": "code",
   "execution_count": 78,
   "id": "1862b1dc",
   "metadata": {},
   "outputs": [
    {
     "name": "stdout",
     "output_type": "stream",
     "text": [
      "0.8048309178743961\n",
      "[[1182  350]\n",
      " [ 256 1317]]\n",
      "              precision    recall  f1-score   support\n",
      "\n",
      "         0.0       0.82      0.77      0.80      1532\n",
      "         1.0       0.79      0.84      0.81      1573\n",
      "\n",
      "    accuracy                           0.80      3105\n",
      "   macro avg       0.81      0.80      0.80      3105\n",
      "weighted avg       0.81      0.80      0.80      3105\n",
      "\n"
     ]
    }
   ],
   "source": [
    "svmkernel('poly')"
   ]
  },
  {
   "cell_type": "code",
   "execution_count": 79,
   "id": "1856027a",
   "metadata": {},
   "outputs": [
    {
     "name": "stdout",
     "output_type": "stream",
     "text": [
      "0.822866344605475\n",
      "[[1231  301]\n",
      " [ 249 1324]]\n",
      "              precision    recall  f1-score   support\n",
      "\n",
      "         0.0       0.83      0.80      0.82      1532\n",
      "         1.0       0.81      0.84      0.83      1573\n",
      "\n",
      "    accuracy                           0.82      3105\n",
      "   macro avg       0.82      0.82      0.82      3105\n",
      "weighted avg       0.82      0.82      0.82      3105\n",
      "\n"
     ]
    }
   ],
   "source": [
    "svmkernel('rbf')"
   ]
  },
  {
   "cell_type": "code",
   "execution_count": 80,
   "id": "f25bd41c",
   "metadata": {},
   "outputs": [
    {
     "name": "stdout",
     "output_type": "stream",
     "text": [
      "{'C': 10, 'gamma': 1, 'kernel': 'rbf'}\n",
      "0.8937052836559005\n"
     ]
    }
   ],
   "source": [
    "#Hyperparameter tuning of SVC for better accuracy:\n",
    "\n",
    "x_train,x_test,y_train,y_test=train_test_split(x,y,test_size=.30,random_state=RS)\n",
    "\n",
    "sv=SVC()\n",
    "sv_grid_param={'C': [0.1, 1, 10, 100, 1000],\n",
    "              'gamma': [1, 0.1, 0.01, 0.001, 0.0001],\n",
    "              'kernel': ['rbf']}\n",
    "\n",
    "gd_sr=GridSearchCV(estimator=sv,param_grid=sv_grid_param,scoring='accuracy',cv=5)\n",
    "\n",
    "gd_sr.fit(x,y)\n",
    "\n",
    "best_parameters=gd_sr.best_params_\n",
    "print(best_parameters)\n",
    "\n",
    "print(gd_sr.best_score_)"
   ]
  },
  {
   "cell_type": "code",
   "execution_count": 81,
   "id": "35a0c580",
   "metadata": {},
   "outputs": [
    {
     "name": "stdout",
     "output_type": "stream",
     "text": [
      "0.8724637681159421\n",
      "[[1424  124]\n",
      " [ 272 1285]]\n",
      "              precision    recall  f1-score   support\n",
      "\n",
      "         0.0       0.84      0.92      0.88      1548\n",
      "         1.0       0.91      0.83      0.87      1557\n",
      "\n",
      "    accuracy                           0.87      3105\n",
      "   macro avg       0.88      0.87      0.87      3105\n",
      "weighted avg       0.88      0.87      0.87      3105\n",
      "\n"
     ]
    }
   ],
   "source": [
    "x_train,x_test,y_train,y_test=train_test_split(x,y,test_size=.30,random_state=79)\n",
    "svc_h=SVC(kernel='rbf',gamma=1,C=10)\n",
    "svc_h.fit(x_train,y_train)\n",
    "svc_h.score(x_train,y_train)\n",
    "pred_svc=svc_h.predict(x_test)\n",
    "print(accuracy_score(y_test,pred_svc))\n",
    "print(confusion_matrix(y_test,pred_svc))\n",
    "print(classification_report(y_test,pred_svc))"
   ]
  },
  {
   "cell_type": "code",
   "execution_count": 82,
   "id": "00741aec",
   "metadata": {},
   "outputs": [
    {
     "data": {
      "image/png": "[encoded data removed]",
      "text/plain": [
       "<Figure size 432x360 with 2 Axes>"
      ]
     },
     "metadata": {
      "needs_background": "light"
     },
     "output_type": "display_data"
    }
   ],
   "source": [
    "#Plotting the confusion Matrix\n",
    "\n",
    "cm = confusion_matrix(y_test, pred_svc)\n",
    "\n",
    "x_axis_labels = [\"0\",\"1\"]\n",
    "y_axis_labels = [\"0\",\"1\"]\n",
    "\n",
    "f, ax = plt.subplots(figsize =(6,5))\n",
    "sns.heatmap(cm, annot = True, linewidths=0.2, linecolor=\"black\", fmt = \".0f\", ax=ax, cmap=\"Purples\", xticklabels=x_axis_labels, yticklabels=y_axis_labels)\n",
    "plt.xlabel(\"Predicted Value\")\n",
    "plt.ylabel(\"Actual Value\")\n",
    "plt.title('Confusion Matrix for Support Vector Classifier')\n",
    "plt.show()"
   ]
  },
  {
   "cell_type": "markdown",
   "id": "9da3fa78",
   "metadata": {},
   "source": [
    "# Random Forest Classifier:"
   ]
  },
  {
   "cell_type": "code",
   "execution_count": 83,
   "id": "3bac4f5b",
   "metadata": {},
   "outputs": [
    {
     "name": "stdout",
     "output_type": "stream",
     "text": [
      "Best accuracy is  0.8689210950080515  on Random_state  42\n"
     ]
    }
   ],
   "source": [
    "#Finding the best random state\n",
    "\n",
    "Accu=0\n",
    "RS=0\n",
    "for i in range(1,100):\n",
    "    x_train,x_test,y_train,y_test = train_test_split(x,y,test_size=.30, random_state =i)\n",
    "    rf=RandomForestClassifier()\n",
    "    rf.fit(x_train, y_train)\n",
    "    pred = rf.predict(x_test)\n",
    "    acc=accuracy_score(y_test, pred)\n",
    "    if acc>Accu:\n",
    "        Accu=acc\n",
    "        RS=i\n",
    "print(\"Best accuracy is \",Accu,\" on Random_state \",RS)"
   ]
  },
  {
   "cell_type": "code",
   "execution_count": 84,
   "id": "76e99dcc",
   "metadata": {},
   "outputs": [
    {
     "name": "stdout",
     "output_type": "stream",
     "text": [
      "0.8685990338164251\n",
      "[[1359  215]\n",
      " [ 193 1338]]\n",
      "              precision    recall  f1-score   support\n",
      "\n",
      "         0.0       0.88      0.86      0.87      1574\n",
      "         1.0       0.86      0.87      0.87      1531\n",
      "\n",
      "    accuracy                           0.87      3105\n",
      "   macro avg       0.87      0.87      0.87      3105\n",
      "weighted avg       0.87      0.87      0.87      3105\n",
      "\n"
     ]
    }
   ],
   "source": [
    "x_train,x_test,y_train,y_test = train_test_split(x,y,test_size=.30, random_state =RS)\n",
    "\n",
    "rf=RandomForestClassifier()\n",
    "rf.fit(x_train,y_train)\n",
    "predrf=rf.predict(x_test)\n",
    "print(accuracy_score(y_test,predrf))\n",
    "print(confusion_matrix(y_test,predrf))\n",
    "print(classification_report(y_test,predrf))"
   ]
  },
  {
   "cell_type": "code",
   "execution_count": 85,
   "id": "2ae9a5fb",
   "metadata": {},
   "outputs": [
    {
     "name": "stdout",
     "output_type": "stream",
     "text": [
      "{'bootstrap': False, 'criterion': 'gini', 'max_features': 1, 'min_samples_leaf': 1, 'min_samples_split': 2, 'n_estimators': 300}\n",
      "0.8700336459770759\n"
     ]
    }
   ],
   "source": [
    "#Hyper Parameter Tuning for Random Forest\n",
    "\n",
    "x_train,x_test,y_train,y_test=train_test_split(x,y,test_size=.30,random_state=RS)\n",
    "\n",
    "rf=RandomForestClassifier()\n",
    "rf_grid_param={\"max_features\": [1,3,10],\n",
    "                \"min_samples_split\":[2,3,5,10],\n",
    "                \"min_samples_leaf\":[1,3,10],\n",
    "                \"bootstrap\":[False],\n",
    "                \"n_estimators\":[200,300],\n",
    "                \"criterion\":[\"gini\",'entropy']}\n",
    "\n",
    "gd_sr=GridSearchCV(estimator=rf,param_grid=rf_grid_param,scoring='accuracy',cv=5)\n",
    "\n",
    "gd_sr.fit(x,y)\n",
    "\n",
    "best_parameters=gd_sr.best_params_\n",
    "print(best_parameters)\n",
    "\n",
    "print(gd_sr.best_score_)"
   ]
  },
  {
   "cell_type": "code",
   "execution_count": 86,
   "id": "35d72b51",
   "metadata": {},
   "outputs": [
    {
     "name": "stdout",
     "output_type": "stream",
     "text": [
      "0.8663446054750402\n",
      "[[1327  188]\n",
      " [ 227 1363]]\n",
      "              precision    recall  f1-score   support\n",
      "\n",
      "         0.0       0.85      0.88      0.86      1515\n",
      "         1.0       0.88      0.86      0.87      1590\n",
      "\n",
      "    accuracy                           0.87      3105\n",
      "   macro avg       0.87      0.87      0.87      3105\n",
      "weighted avg       0.87      0.87      0.87      3105\n",
      "\n"
     ]
    }
   ],
   "source": [
    "#Reinstating the tuned parameters:\n",
    "x_train,x_test,y_train,y_test = train_test_split(x,y,test_size=.30, random_state =81)\n",
    "rf_h=RandomForestClassifier(n_estimators=300,bootstrap=False,criterion='gini',\n",
    "                         max_features=1,min_samples_leaf=1,min_samples_split=3)\n",
    "rf_h.fit(x_train,y_train)\n",
    "rf_h.score(x_train,y_train)\n",
    "predrf=rf_h.predict(x_test)\n",
    "print(accuracy_score(y_test,predrf))\n",
    "print(confusion_matrix(y_test,predrf))\n",
    "print(classification_report(y_test,predrf))\n"
   ]
  },
  {
   "cell_type": "code",
   "execution_count": 87,
   "id": "73f8ee4b",
   "metadata": {},
   "outputs": [
    {
     "data": {
      "image/png": "[encoded data removed]",
      "text/plain": [
       "<Figure size 432x360 with 2 Axes>"
      ]
     },
     "metadata": {
      "needs_background": "light"
     },
     "output_type": "display_data"
    }
   ],
   "source": [
    "#Plotting the confusion Matrix\n",
    "\n",
    "cm = confusion_matrix(y_test, predrf)\n",
    "\n",
    "x_axis_labels = [\"0\",\"1\"]\n",
    "y_axis_labels = [\"0\",\"1\"]\n",
    "\n",
    "f, ax = plt.subplots(figsize =(6,5))\n",
    "sns.heatmap(cm, annot = True, linewidths=0.2, linecolor=\"black\", fmt = \".0f\", ax=ax, cmap=\"Purples\", xticklabels=x_axis_labels, yticklabels=y_axis_labels)\n",
    "plt.xlabel(\"Predicted Value\")\n",
    "plt.ylabel(\"Actual Value\")\n",
    "plt.title('Confusion Matrix for Random Forest Classifier')\n",
    "plt.show()"
   ]
  },
  {
   "cell_type": "markdown",
   "id": "5f9b0f73",
   "metadata": {},
   "source": [
    "# Gradient Booster Classifier:"
   ]
  },
  {
   "cell_type": "code",
   "execution_count": 88,
   "id": "5d34b2c0",
   "metadata": {},
   "outputs": [
    {
     "name": "stdout",
     "output_type": "stream",
     "text": [
      "Accuracy Score: 0.8299516908212561\n",
      "Confusion Matrix: [[1270  275]\n",
      " [ 253 1307]]\n",
      "              precision    recall  f1-score   support\n",
      "\n",
      "         0.0       0.83      0.82      0.83      1545\n",
      "         1.0       0.83      0.84      0.83      1560\n",
      "\n",
      "    accuracy                           0.83      3105\n",
      "   macro avg       0.83      0.83      0.83      3105\n",
      "weighted avg       0.83      0.83      0.83      3105\n",
      "\n"
     ]
    }
   ],
   "source": [
    "from sklearn.ensemble import GradientBoostingClassifier\n",
    "\n",
    "x_train,x_test,y_train,y_test = train_test_split(x,y,test_size=.30, random_state =None)\n",
    "\n",
    "GBC=GradientBoostingClassifier()\n",
    "GBC.fit(x_train,y_train)\n",
    "predgb=GBC.predict(x_test)\n",
    "print('Accuracy Score:',accuracy_score(y_test, predgb))\n",
    "print('Confusion Matrix:',confusion_matrix(y_test, predgb))\n",
    "print(classification_report(y_test,predgb))"
   ]
  },
  {
   "cell_type": "code",
   "execution_count": 89,
   "id": "674f5b68",
   "metadata": {},
   "outputs": [
    {
     "data": {
      "image/png": "[encoded data removed]",
      "text/plain": [
       "<Figure size 360x360 with 2 Axes>"
      ]
     },
     "metadata": {
      "needs_background": "light"
     },
     "output_type": "display_data"
    }
   ],
   "source": [
    "cm = confusion_matrix(y_test, predgb)\n",
    "\n",
    "x_axis_labels = [\"0\",\"1\"]\n",
    "y_axis_labels = [\"0\",\"1\"]\n",
    "\n",
    "\n",
    "f, ax = plt.subplots(figsize =(5,5))\n",
    "sns.heatmap(cm, annot = True, linewidths=0.2, linecolor=\"black\", fmt = \".0f\", ax=ax, cmap=\"Purples\", xticklabels=x_axis_labels, yticklabels=y_axis_labels)\n",
    "plt.xlabel(\"PREDICTED LABEL\")\n",
    "plt.ylabel(\"TRUE LABEL\")\n",
    "plt.title('Confusion Matrix for Gradient Boosting Classifier')\n",
    "plt.show()"
   ]
  },
  {
   "cell_type": "markdown",
   "id": "b7feb61f",
   "metadata": {},
   "source": [
    "# cross validation:"
   ]
  },
  {
   "cell_type": "code",
   "execution_count": 90,
   "id": "6f50d604",
   "metadata": {},
   "outputs": [
    {
     "name": "stdout",
     "output_type": "stream",
     "text": [
      "Cross_Val_Score of LR: 0.7755146480247873\n"
     ]
    }
   ],
   "source": [
    "score=cross_val_score(lr,x,y,cv=5)\n",
    "score_a=score.mean()\n",
    "print(\"Cross_Val_Score of LR:\",score_a)"
   ]
  },
  {
   "cell_type": "code",
   "execution_count": 91,
   "id": "20632818",
   "metadata": {},
   "outputs": [
    {
     "name": "stdout",
     "output_type": "stream",
     "text": [
      "Cross_Val_Score of DTC: 0.7863440762299694\n"
     ]
    }
   ],
   "source": [
    "score=cross_val_score(dtc,x,y,cv=5)\n",
    "score_b=score.mean()\n",
    "print(\"Cross_Val_Score of DTC:\",score_b)"
   ]
  },
  {
   "cell_type": "code",
   "execution_count": 92,
   "id": "a2d00834",
   "metadata": {},
   "outputs": [
    {
     "name": "stdout",
     "output_type": "stream",
     "text": [
      "Cross_Val_Score of SVC: 0.8937052836559005\n"
     ]
    }
   ],
   "source": [
    "score=cross_val_score(svc_h,x,y,cv=5)\n",
    "score_c=score.mean()\n",
    "print(\"Cross_Val_Score of SVC:\",score_c)"
   ]
  },
  {
   "cell_type": "code",
   "execution_count": 93,
   "id": "5fa9590e",
   "metadata": {},
   "outputs": [
    {
     "name": "stdout",
     "output_type": "stream",
     "text": [
      "Cross_Val_Score of RF: 0.8681008118463727\n"
     ]
    }
   ],
   "source": [
    "score=cross_val_score(rf_h,x,y,cv=5)\n",
    "score_d=score.mean()\n",
    "print(\"Cross_Val_Score of RF:\",score_d)"
   ]
  },
  {
   "cell_type": "code",
   "execution_count": 94,
   "id": "4c2bda59",
   "metadata": {},
   "outputs": [
    {
     "name": "stdout",
     "output_type": "stream",
     "text": [
      "Cross_Val_Score of Gradient Boosting: 0.8343741404631985\n"
     ]
    }
   ],
   "source": [
    "score=cross_val_score(GBC,x,y,cv=5)\n",
    "score_f=score.mean()\n",
    "print(\"Cross_Val_Score of Gradient Boosting:\",score_f)"
   ]
  },
  {
   "cell_type": "code",
   "execution_count": 96,
   "id": "1788aee2",
   "metadata": {},
   "outputs": [
    {
     "data": {
      "text/plain": [
       "Text(0.5, 1.0, 'Cross Validation Scores')"
      ]
     },
     "execution_count": 96,
     "metadata": {},
     "output_type": "execute_result"
    },
    {
     "data": {
      "image/png": "[encoded data removed]",
      "text/plain": [
       "<Figure size 432x288 with 1 Axes>"
      ]
     },
     "metadata": {
      "needs_background": "light"
     },
     "output_type": "display_data"
    }
   ],
   "source": [
    "cv_result=[score_a,score_b,score_c,score_d,score_f]\n",
    "cv_results = pd.DataFrame({\"Cross Validation Means\":cv_result, \"ML Models\":[ \"LogisticRegression\",\n",
    "            \"DecisionTreeClassifier\", \"SVC\",\"RandomForestClassifier\",\"Gradient Boosting\"]})\n",
    "\n",
    "g = sns.barplot(\"Cross Validation Means\", \"ML Models\", data = cv_results)\n",
    "g.set_xlabel(\"CV Mean\")\n",
    "g.set_title(\"Cross Validation Scores\")"
   ]
  },
  {
   "cell_type": "code",
   "execution_count": 97,
   "id": "df2ad04c",
   "metadata": {},
   "outputs": [
    {
     "data": {
      "text/plain": [
       "Text(0.5, 1.0, 'Accuracy scores of different Models')"
      ]
     },
     "execution_count": 97,
     "metadata": {},
     "output_type": "execute_result"
    },
    {
     "data": {
      "image/png": "[encoded data removed]",
      "text/plain": [
       "<Figure size 432x288 with 1 Axes>"
      ]
     },
     "metadata": {
      "needs_background": "light"
     },
     "output_type": "display_data"
    }
   ],
   "source": [
    "score_lr=0.785829307568438 \n",
    "score_dtc=0.8051529790660226\n",
    "score_svc=0.8605475040257649\n",
    "score_rf=0.8644122383252818\n",
    "score_gbc=0.8431561996779388\n",
    "\n",
    "acc_result=[score_lr,score_dtc,score_svc,score_rf,score_gbc]\n",
    "acc_results = pd.DataFrame({\"Accuracy Scores\":acc_result, \"ML Models\":[ \"LogisticRegression\",\n",
    "            \"DecisionTreeClassifier\", \"SVC\",\"RandomForestClassifier\",\"Gradient Descent\"]})\n",
    "\n",
    "g = sns.barplot(\"Accuracy Scores\", \"ML Models\", data = acc_results)\n",
    "g.set_xlabel(\"Accuracy score\")\n",
    "g.set_title(\"Accuracy scores of different Models\")"
   ]
  },
  {
   "cell_type": "code",
   "execution_count": 98,
   "id": "b7d5b7fe",
   "metadata": {},
   "outputs": [
    {
     "name": "stdout",
     "output_type": "stream",
     "text": [
      "0.8679549114331723\n",
      "[[1332  183]\n",
      " [ 227 1363]]\n",
      "              precision    recall  f1-score   support\n",
      "\n",
      "         0.0       0.85      0.88      0.87      1515\n",
      "         1.0       0.88      0.86      0.87      1590\n",
      "\n",
      "    accuracy                           0.87      3105\n",
      "   macro avg       0.87      0.87      0.87      3105\n",
      "weighted avg       0.87      0.87      0.87      3105\n",
      "\n"
     ]
    }
   ],
   "source": [
    "#Final model as Random Forest\n",
    "#{'bootstrap': False, 'criterion': 'gini', 'max_features': 1, 'min_samples_leaf': 1, 'min_samples_split': 3, 'n_estimators': 300}\n",
    "\n",
    "x_train,x_test,y_train,y_test = train_test_split(x,y,test_size=.30, random_state =81)\n",
    "\n",
    "Final_Model=RandomForestClassifier(n_estimators=300,bootstrap=False,criterion='gini',\n",
    "                         max_features=1,min_samples_leaf=1,min_samples_split=3)\n",
    "Final_Model.fit(x_train,y_train)\n",
    "predrf=Final_Model.predict(x_test)\n",
    "print(accuracy_score(y_test,predrf))\n",
    "print(confusion_matrix(y_test,predrf))\n",
    "print(classification_report(y_test,predrf))"
   ]
  },
  {
   "cell_type": "code",
   "execution_count": 99,
   "id": "f317c0a8",
   "metadata": {},
   "outputs": [
    {
     "data": {
      "text/plain": [
       "array([0.15666667, 0.96166667, 0.26166667, ..., 0.95      , 0.92666667,\n",
       "       0.00666667])"
      ]
     },
     "execution_count": 99,
     "metadata": {},
     "output_type": "execute_result"
    }
   ],
   "source": [
    "from sklearn.metrics import roc_curve\n",
    "from sklearn.metrics import roc_auc_score\n",
    "\n",
    "y_pred_prob=Final_Model.predict_proba(x_test)[:,1]\n",
    "y_pred_prob"
   ]
  },
  {
   "cell_type": "code",
   "execution_count": 100,
   "id": "5813486f",
   "metadata": {},
   "outputs": [
    {
     "data": {
      "text/plain": [
       "array([0.00000000e+00, 0.00000000e+00, 0.00000000e+00, 0.00000000e+00,\n",
       "       0.00000000e+00, 0.00000000e+00, 0.00000000e+00, 6.60066007e-04,\n",
       "       6.60066007e-04, 6.60066007e-04, 6.60066007e-04, 6.60066007e-04,\n",
       "       1.98019802e-03, 3.30033003e-03, 3.30033003e-03, 3.96039604e-03,\n",
       "       3.96039604e-03, 3.96039604e-03, 3.96039604e-03, 3.96039604e-03,\n",
       "       3.96039604e-03, 3.96039604e-03, 3.96039604e-03, 3.96039604e-03,\n",
       "       3.96039604e-03, 3.96039604e-03, 4.62046205e-03, 4.62046205e-03,\n",
       "       4.62046205e-03, 4.62046205e-03, 5.28052805e-03, 5.28052805e-03,\n",
       "       5.28052805e-03, 5.28052805e-03, 5.28052805e-03, 5.28052805e-03,\n",
       "       5.28052805e-03, 5.28052805e-03, 5.28052805e-03, 5.28052805e-03,\n",
       "       5.28052805e-03, 5.94059406e-03, 6.60066007e-03, 6.60066007e-03,\n",
       "       6.60066007e-03, 6.60066007e-03, 7.26072607e-03, 7.26072607e-03,\n",
       "       7.26072607e-03, 7.92079208e-03, 7.92079208e-03, 7.92079208e-03,\n",
       "       8.58085809e-03, 8.58085809e-03, 9.24092409e-03, 9.90099010e-03,\n",
       "       9.90099010e-03, 1.05610561e-02, 1.05610561e-02, 1.05610561e-02,\n",
       "       1.05610561e-02, 1.12211221e-02, 1.18811881e-02, 1.18811881e-02,\n",
       "       1.25412541e-02, 1.25412541e-02, 1.25412541e-02, 1.25412541e-02,\n",
       "       1.25412541e-02, 1.25412541e-02, 1.25412541e-02, 1.25412541e-02,\n",
       "       1.25412541e-02, 1.32013201e-02, 1.32013201e-02, 1.45214521e-02,\n",
       "       1.45214521e-02, 1.51815182e-02, 1.51815182e-02, 1.51815182e-02,\n",
       "       1.58415842e-02, 1.58415842e-02, 1.58415842e-02, 1.58415842e-02,\n",
       "       1.58415842e-02, 1.58415842e-02, 1.58415842e-02, 1.58415842e-02,\n",
       "       1.58415842e-02, 1.58415842e-02, 1.58415842e-02, 1.58415842e-02,\n",
       "       1.58415842e-02, 1.58415842e-02, 1.58415842e-02, 1.58415842e-02,\n",
       "       1.65016502e-02, 1.78217822e-02, 1.78217822e-02, 1.78217822e-02,\n",
       "       1.78217822e-02, 1.84818482e-02, 1.84818482e-02, 1.91419142e-02,\n",
       "       1.91419142e-02, 1.91419142e-02, 1.91419142e-02, 1.91419142e-02,\n",
       "       1.91419142e-02, 1.91419142e-02, 1.98019802e-02, 1.98019802e-02,\n",
       "       1.98019802e-02, 2.04620462e-02, 2.04620462e-02, 2.04620462e-02,\n",
       "       2.11221122e-02, 2.11221122e-02, 2.17821782e-02, 2.17821782e-02,\n",
       "       2.17821782e-02, 2.17821782e-02, 2.17821782e-02, 2.24422442e-02,\n",
       "       2.24422442e-02, 2.37623762e-02, 2.37623762e-02, 2.44224422e-02,\n",
       "       2.44224422e-02, 2.44224422e-02, 2.44224422e-02, 2.50825083e-02,\n",
       "       2.50825083e-02, 2.50825083e-02, 2.50825083e-02, 2.50825083e-02,\n",
       "       2.64026403e-02, 2.64026403e-02, 2.70627063e-02, 2.70627063e-02,\n",
       "       2.77227723e-02, 2.77227723e-02, 2.83828383e-02, 2.83828383e-02,\n",
       "       2.90429043e-02, 2.90429043e-02, 2.90429043e-02, 2.97029703e-02,\n",
       "       2.97029703e-02, 2.97029703e-02, 3.16831683e-02, 3.16831683e-02,\n",
       "       3.16831683e-02, 3.23432343e-02, 3.36633663e-02, 3.43234323e-02,\n",
       "       3.43234323e-02, 3.49834983e-02, 3.63036304e-02, 3.63036304e-02,\n",
       "       3.63036304e-02, 3.63036304e-02, 3.76237624e-02, 3.82838284e-02,\n",
       "       3.89438944e-02, 3.89438944e-02, 3.89438944e-02, 4.02640264e-02,\n",
       "       4.02640264e-02, 4.09240924e-02, 4.15841584e-02, 4.15841584e-02,\n",
       "       4.22442244e-02, 4.22442244e-02, 4.22442244e-02, 4.29042904e-02,\n",
       "       4.35643564e-02, 4.48844884e-02, 4.55445545e-02, 4.55445545e-02,\n",
       "       4.62046205e-02, 4.62046205e-02, 4.62046205e-02, 4.68646865e-02,\n",
       "       4.68646865e-02, 4.75247525e-02, 4.81848185e-02, 4.81848185e-02,\n",
       "       4.88448845e-02, 4.88448845e-02, 5.01650165e-02, 5.14851485e-02,\n",
       "       5.14851485e-02, 5.14851485e-02, 5.21452145e-02, 5.21452145e-02,\n",
       "       5.28052805e-02, 5.34653465e-02, 5.47854785e-02, 5.54455446e-02,\n",
       "       5.54455446e-02, 5.67656766e-02, 5.80858086e-02, 5.80858086e-02,\n",
       "       5.87458746e-02, 5.94059406e-02, 6.07260726e-02, 6.07260726e-02,\n",
       "       6.20462046e-02, 6.20462046e-02, 6.33663366e-02, 6.33663366e-02,\n",
       "       6.33663366e-02, 6.33663366e-02, 6.53465347e-02, 6.73267327e-02,\n",
       "       6.79867987e-02, 6.79867987e-02, 6.86468647e-02, 6.86468647e-02,\n",
       "       6.99669967e-02, 7.12871287e-02, 7.19471947e-02, 7.26072607e-02,\n",
       "       7.45874587e-02, 7.59075908e-02, 7.78877888e-02, 7.85478548e-02,\n",
       "       7.92079208e-02, 7.98679868e-02, 7.98679868e-02, 8.05280528e-02,\n",
       "       8.05280528e-02, 8.18481848e-02, 8.18481848e-02, 8.25082508e-02,\n",
       "       8.25082508e-02, 8.38283828e-02, 8.44884488e-02, 8.51485149e-02,\n",
       "       8.64686469e-02, 8.91089109e-02, 9.04290429e-02, 9.17491749e-02,\n",
       "       9.17491749e-02, 9.24092409e-02, 9.37293729e-02, 9.63696370e-02,\n",
       "       9.70297030e-02, 9.90099010e-02, 9.96699670e-02, 9.96699670e-02,\n",
       "       1.00990099e-01, 1.03630363e-01, 1.04950495e-01, 1.04950495e-01,\n",
       "       1.06270627e-01, 1.08250825e-01, 1.08250825e-01, 1.09570957e-01,\n",
       "       1.10891089e-01, 1.11551155e-01, 1.11551155e-01, 1.12871287e-01,\n",
       "       1.13531353e-01, 1.13531353e-01, 1.14191419e-01, 1.14191419e-01,\n",
       "       1.17491749e-01, 1.18151815e-01, 1.19471947e-01, 1.19471947e-01,\n",
       "       1.20792079e-01, 1.21452145e-01, 1.22112211e-01, 1.22112211e-01,\n",
       "       1.23432343e-01, 1.25412541e-01, 1.26072607e-01, 1.27392739e-01,\n",
       "       1.28712871e-01, 1.31353135e-01, 1.31353135e-01, 1.32673267e-01,\n",
       "       1.34653465e-01, 1.35313531e-01, 1.35313531e-01, 1.37293729e-01,\n",
       "       1.37953795e-01, 1.41254125e-01, 1.41254125e-01, 1.41914191e-01,\n",
       "       1.42574257e-01, 1.43894389e-01, 1.44554455e-01, 1.47194719e-01,\n",
       "       1.49834983e-01, 1.51155116e-01, 1.53795380e-01, 1.55775578e-01,\n",
       "       1.57095710e-01, 1.58415842e-01, 1.58415842e-01, 1.59075908e-01,\n",
       "       1.61056106e-01, 1.62376238e-01, 1.64356436e-01, 1.65016502e-01,\n",
       "       1.67656766e-01, 1.67656766e-01, 1.69636964e-01, 1.70957096e-01,\n",
       "       1.71617162e-01, 1.72937294e-01, 1.72937294e-01, 1.75577558e-01,\n",
       "       1.78877888e-01, 1.78877888e-01, 1.80858086e-01, 1.82838284e-01,\n",
       "       1.83498350e-01, 1.84818482e-01, 1.86798680e-01, 1.87458746e-01,\n",
       "       1.90099010e-01, 1.91419142e-01, 1.92079208e-01, 1.94719472e-01,\n",
       "       1.94719472e-01, 1.97359736e-01, 1.98679868e-01, 2.00660066e-01,\n",
       "       2.01320132e-01, 2.02640264e-01, 2.03960396e-01, 2.05940594e-01,\n",
       "       2.07260726e-01, 2.07920792e-01, 2.09240924e-01, 2.09900990e-01,\n",
       "       2.10561056e-01, 2.13861386e-01, 2.17161716e-01, 2.17821782e-01,\n",
       "       2.18481848e-01, 2.19801980e-01, 2.23762376e-01, 2.25082508e-01,\n",
       "       2.27062706e-01, 2.28382838e-01, 2.29042904e-01, 2.30363036e-01,\n",
       "       2.33003300e-01, 2.34983498e-01, 2.34983498e-01, 2.36303630e-01,\n",
       "       2.37623762e-01, 2.38943894e-01, 2.40924092e-01, 2.43564356e-01,\n",
       "       2.45544554e-01, 2.45544554e-01, 2.47524752e-01, 2.49504950e-01,\n",
       "       2.51485149e-01, 2.53465347e-01, 2.57425743e-01, 2.59405941e-01,\n",
       "       2.60726073e-01, 2.64686469e-01, 2.65346535e-01, 2.67986799e-01,\n",
       "       2.71947195e-01, 2.72607261e-01, 2.72607261e-01, 2.75247525e-01,\n",
       "       2.77227723e-01, 2.77887789e-01, 2.79867987e-01, 2.79867987e-01,\n",
       "       2.82508251e-01, 2.84488449e-01, 2.87128713e-01, 2.89108911e-01,\n",
       "       2.92409241e-01, 2.94389439e-01, 2.96369637e-01, 2.98349835e-01,\n",
       "       3.01650165e-01, 3.02970297e-01, 3.06930693e-01, 3.09570957e-01,\n",
       "       3.12871287e-01, 3.14191419e-01, 3.16171617e-01, 3.18811881e-01,\n",
       "       3.19471947e-01, 3.23432343e-01, 3.24752475e-01, 3.26072607e-01,\n",
       "       3.26732673e-01, 3.29372937e-01, 3.31353135e-01, 3.35313531e-01,\n",
       "       3.36633663e-01, 3.38613861e-01, 3.41254125e-01, 3.43894389e-01,\n",
       "       3.45874587e-01, 3.48514851e-01, 3.53795380e-01, 3.55115512e-01,\n",
       "       3.56435644e-01, 3.59735974e-01, 3.59735974e-01, 3.61056106e-01,\n",
       "       3.64356436e-01, 3.66996700e-01, 3.67656766e-01, 3.70957096e-01,\n",
       "       3.74257426e-01, 3.78877888e-01, 3.84818482e-01, 3.86138614e-01,\n",
       "       3.88778878e-01, 3.89438944e-01, 3.90099010e-01, 3.93399340e-01,\n",
       "       3.96699670e-01, 3.98679868e-01, 3.99339934e-01, 4.00000000e-01,\n",
       "       4.01320132e-01, 4.02640264e-01, 4.04620462e-01, 4.07260726e-01,\n",
       "       4.09240924e-01, 4.15181518e-01, 4.16501650e-01, 4.21782178e-01,\n",
       "       4.24422442e-01, 4.25742574e-01, 4.28382838e-01, 4.32343234e-01,\n",
       "       4.34323432e-01, 4.35643564e-01, 4.43564356e-01, 4.48844884e-01,\n",
       "       4.50165017e-01, 4.54125413e-01, 4.56105611e-01, 4.58085809e-01,\n",
       "       4.60726073e-01, 4.63366337e-01, 4.64686469e-01, 4.66666667e-01,\n",
       "       4.69306931e-01, 4.74587459e-01, 4.77887789e-01, 4.83168317e-01,\n",
       "       4.85148515e-01, 4.90429043e-01, 4.91749175e-01, 4.97689769e-01,\n",
       "       5.02970297e-01, 5.05610561e-01, 5.10891089e-01, 5.14851485e-01,\n",
       "       5.18151815e-01, 5.20792079e-01, 5.24092409e-01, 5.24752475e-01,\n",
       "       5.28712871e-01, 5.32673267e-01, 5.37953795e-01, 5.41254125e-01,\n",
       "       5.45214521e-01, 5.47194719e-01, 5.51155116e-01, 5.54455446e-01,\n",
       "       5.57095710e-01, 5.58415842e-01, 5.60396040e-01, 5.65016502e-01,\n",
       "       5.70297030e-01, 5.73597360e-01, 5.80198020e-01, 5.82838284e-01,\n",
       "       5.86798680e-01, 5.87458746e-01, 5.94059406e-01, 5.98019802e-01,\n",
       "       5.98679868e-01, 6.01320132e-01, 6.04620462e-01, 6.09240924e-01,\n",
       "       6.11221122e-01, 6.13861386e-01, 6.17821782e-01, 6.23102310e-01,\n",
       "       6.27062706e-01, 6.27722772e-01, 6.31683168e-01, 6.38943894e-01,\n",
       "       6.40924092e-01, 6.46864686e-01, 6.48844884e-01, 6.55445545e-01,\n",
       "       6.56105611e-01, 6.61386139e-01, 6.68646865e-01, 6.73927393e-01,\n",
       "       6.81848185e-01, 6.85148515e-01, 6.91749175e-01, 6.97689769e-01,\n",
       "       7.02310231e-01, 7.10231023e-01, 7.18151815e-01, 7.21452145e-01,\n",
       "       7.29372937e-01, 7.37293729e-01, 7.41914191e-01, 7.47194719e-01,\n",
       "       7.53795380e-01, 7.59735974e-01, 7.62376238e-01, 7.67656766e-01,\n",
       "       7.72277228e-01, 7.82178218e-01, 7.87458746e-01, 7.92079208e-01,\n",
       "       7.95379538e-01, 7.96699670e-01, 8.05940594e-01, 8.11221122e-01,\n",
       "       8.20462046e-01, 8.26402640e-01, 8.34983498e-01, 8.42904290e-01,\n",
       "       8.47524752e-01, 8.56105611e-01, 8.60726073e-01, 8.64686469e-01,\n",
       "       8.72607261e-01, 8.77227723e-01, 8.87128713e-01, 8.93069307e-01,\n",
       "       8.99669967e-01, 9.06930693e-01, 9.20132013e-01, 9.33993399e-01,\n",
       "       9.54455446e-01, 9.66996700e-01, 1.00000000e+00])"
      ]
     },
     "execution_count": 100,
     "metadata": {},
     "output_type": "execute_result"
    }
   ],
   "source": [
    "fpr,tpr,thresholds=roc_curve(y_test,y_pred_prob)\n",
    "\n",
    "fpr"
   ]
  },
  {
   "cell_type": "code",
   "execution_count": 101,
   "id": "28398a22",
   "metadata": {},
   "outputs": [
    {
     "data": {
      "text/plain": [
       "array([2.00000000e+00, 1.00000000e+00, 9.98333333e-01, 9.95000000e-01,\n",
       "       9.93333333e-01, 9.91666667e-01, 9.90000000e-01, 9.88333333e-01,\n",
       "       9.86666667e-01, 9.85000000e-01, 9.83333333e-01, 9.81666667e-01,\n",
       "       9.80000000e-01, 9.78333333e-01, 9.76666667e-01, 9.75000000e-01,\n",
       "       9.73333333e-01, 9.71666667e-01, 9.70000000e-01, 9.66666667e-01,\n",
       "       9.65000000e-01, 9.63333333e-01, 9.61666667e-01, 9.60000000e-01,\n",
       "       9.58333333e-01, 9.56666667e-01, 9.55000000e-01, 9.53333333e-01,\n",
       "       9.51666667e-01, 9.50000000e-01, 9.48333333e-01, 9.46666667e-01,\n",
       "       9.45000000e-01, 9.43333333e-01, 9.40000000e-01, 9.38333333e-01,\n",
       "       9.36666667e-01, 9.35000000e-01, 9.33333333e-01, 9.31666667e-01,\n",
       "       9.30000000e-01, 9.28333333e-01, 9.26666667e-01, 9.25000000e-01,\n",
       "       9.23333333e-01, 9.21666667e-01, 9.20000000e-01, 9.18333333e-01,\n",
       "       9.16666667e-01, 9.15000000e-01, 9.13333333e-01, 9.11666667e-01,\n",
       "       9.10000000e-01, 9.08333333e-01, 9.06666667e-01, 9.05000000e-01,\n",
       "       9.03333333e-01, 9.01666667e-01, 9.00000000e-01, 8.98333333e-01,\n",
       "       8.96666667e-01, 8.95000000e-01, 8.93333333e-01, 8.91666667e-01,\n",
       "       8.90000000e-01, 8.88333333e-01, 8.86666667e-01, 8.85000000e-01,\n",
       "       8.83333333e-01, 8.81666667e-01, 8.80000000e-01, 8.78333333e-01,\n",
       "       8.75000000e-01, 8.73333333e-01, 8.71666667e-01, 8.70000000e-01,\n",
       "       8.68333333e-01, 8.66666667e-01, 8.65000000e-01, 8.63333333e-01,\n",
       "       8.61666667e-01, 8.60000000e-01, 8.58333333e-01, 8.56666667e-01,\n",
       "       8.55000000e-01, 8.53333333e-01, 8.51666667e-01, 8.50000000e-01,\n",
       "       8.48333333e-01, 8.45000000e-01, 8.43333333e-01, 8.41666667e-01,\n",
       "       8.40000000e-01, 8.38333333e-01, 8.36666667e-01, 8.35000000e-01,\n",
       "       8.33333333e-01, 8.31666667e-01, 8.30000000e-01, 8.28333333e-01,\n",
       "       8.26666667e-01, 8.25000000e-01, 8.23333333e-01, 8.21666667e-01,\n",
       "       8.20000000e-01, 8.18333333e-01, 8.16666667e-01, 8.15000000e-01,\n",
       "       8.11666667e-01, 8.10000000e-01, 8.08333333e-01, 8.06666667e-01,\n",
       "       8.05000000e-01, 8.03333333e-01, 8.01666667e-01, 7.98333333e-01,\n",
       "       7.96666667e-01, 7.95000000e-01, 7.93333333e-01, 7.91666667e-01,\n",
       "       7.90000000e-01, 7.88333333e-01, 7.86666667e-01, 7.85000000e-01,\n",
       "       7.83333333e-01, 7.80000000e-01, 7.78333333e-01, 7.76666667e-01,\n",
       "       7.75000000e-01, 7.73333333e-01, 7.71666667e-01, 7.70000000e-01,\n",
       "       7.68333333e-01, 7.66666667e-01, 7.63333333e-01, 7.61666667e-01,\n",
       "       7.58333333e-01, 7.56666667e-01, 7.55000000e-01, 7.53333333e-01,\n",
       "       7.51666667e-01, 7.50000000e-01, 7.48333333e-01, 7.46666667e-01,\n",
       "       7.45000000e-01, 7.43333333e-01, 7.41666667e-01, 7.40000000e-01,\n",
       "       7.36666667e-01, 7.35000000e-01, 7.33333333e-01, 7.30000000e-01,\n",
       "       7.28333333e-01, 7.26666667e-01, 7.25000000e-01, 7.23333333e-01,\n",
       "       7.21666667e-01, 7.20000000e-01, 7.18333333e-01, 7.16666667e-01,\n",
       "       7.13333333e-01, 7.10000000e-01, 7.06666667e-01, 7.03333333e-01,\n",
       "       7.01666667e-01, 7.00000000e-01, 6.98333333e-01, 6.96666667e-01,\n",
       "       6.95000000e-01, 6.93333333e-01, 6.91666667e-01, 6.90000000e-01,\n",
       "       6.88333333e-01, 6.85000000e-01, 6.83333333e-01, 6.81666667e-01,\n",
       "       6.80000000e-01, 6.78333333e-01, 6.76666667e-01, 6.75000000e-01,\n",
       "       6.73333333e-01, 6.71666667e-01, 6.70000000e-01, 6.68333333e-01,\n",
       "       6.66666667e-01, 6.65000000e-01, 6.63333333e-01, 6.60000000e-01,\n",
       "       6.58333333e-01, 6.56666667e-01, 6.55000000e-01, 6.53333333e-01,\n",
       "       6.51666667e-01, 6.50000000e-01, 6.48333333e-01, 6.46666667e-01,\n",
       "       6.45000000e-01, 6.41666667e-01, 6.40000000e-01, 6.38333333e-01,\n",
       "       6.36666667e-01, 6.33333333e-01, 6.31666667e-01, 6.30000000e-01,\n",
       "       6.28333333e-01, 6.25000000e-01, 6.23333333e-01, 6.21666667e-01,\n",
       "       6.20000000e-01, 6.18333333e-01, 6.16666667e-01, 6.15000000e-01,\n",
       "       6.13333333e-01, 6.11666667e-01, 6.10000000e-01, 6.08333333e-01,\n",
       "       6.06666667e-01, 6.05000000e-01, 6.03333333e-01, 6.01666667e-01,\n",
       "       6.00000000e-01, 5.98333333e-01, 5.96666667e-01, 5.95000000e-01,\n",
       "       5.93333333e-01, 5.91666667e-01, 5.90000000e-01, 5.88333333e-01,\n",
       "       5.86666667e-01, 5.85000000e-01, 5.83333333e-01, 5.81666667e-01,\n",
       "       5.80000000e-01, 5.78333333e-01, 5.76666667e-01, 5.75000000e-01,\n",
       "       5.73333333e-01, 5.71666667e-01, 5.68333333e-01, 5.66666667e-01,\n",
       "       5.63333333e-01, 5.60000000e-01, 5.58333333e-01, 5.56666667e-01,\n",
       "       5.55000000e-01, 5.53333333e-01, 5.51666667e-01, 5.50000000e-01,\n",
       "       5.48333333e-01, 5.46666667e-01, 5.43333333e-01, 5.41666667e-01,\n",
       "       5.40000000e-01, 5.38333333e-01, 5.35000000e-01, 5.33333333e-01,\n",
       "       5.30000000e-01, 5.28333333e-01, 5.26666667e-01, 5.25000000e-01,\n",
       "       5.23333333e-01, 5.21666667e-01, 5.20000000e-01, 5.18333333e-01,\n",
       "       5.16666667e-01, 5.15000000e-01, 5.13333333e-01, 5.11666667e-01,\n",
       "       5.10000000e-01, 5.08333333e-01, 5.06666667e-01, 5.05000000e-01,\n",
       "       5.01666667e-01, 5.00000000e-01, 4.98333333e-01, 4.96666667e-01,\n",
       "       4.95000000e-01, 4.93333333e-01, 4.91666667e-01, 4.90000000e-01,\n",
       "       4.88333333e-01, 4.86666667e-01, 4.85000000e-01, 4.83333333e-01,\n",
       "       4.81666667e-01, 4.80000000e-01, 4.78333333e-01, 4.76666667e-01,\n",
       "       4.75000000e-01, 4.73333333e-01, 4.71666667e-01, 4.70000000e-01,\n",
       "       4.68333333e-01, 4.66666667e-01, 4.65000000e-01, 4.61666667e-01,\n",
       "       4.60000000e-01, 4.58333333e-01, 4.56666667e-01, 4.55000000e-01,\n",
       "       4.53333333e-01, 4.51666667e-01, 4.50000000e-01, 4.48333333e-01,\n",
       "       4.46666667e-01, 4.45000000e-01, 4.43333333e-01, 4.41666667e-01,\n",
       "       4.40000000e-01, 4.38333333e-01, 4.36666667e-01, 4.35000000e-01,\n",
       "       4.33333333e-01, 4.31666667e-01, 4.30000000e-01, 4.26666667e-01,\n",
       "       4.25000000e-01, 4.23333333e-01, 4.21666667e-01, 4.20000000e-01,\n",
       "       4.18333333e-01, 4.16666667e-01, 4.15000000e-01, 4.13333333e-01,\n",
       "       4.11666667e-01, 4.10000000e-01, 4.08333333e-01, 4.06666667e-01,\n",
       "       4.05000000e-01, 4.03333333e-01, 4.01666667e-01, 4.00000000e-01,\n",
       "       3.98333333e-01, 3.96666667e-01, 3.95000000e-01, 3.93333333e-01,\n",
       "       3.91666667e-01, 3.90000000e-01, 3.88333333e-01, 3.85000000e-01,\n",
       "       3.83333333e-01, 3.81666667e-01, 3.80000000e-01, 3.78333333e-01,\n",
       "       3.76666667e-01, 3.75000000e-01, 3.71666667e-01, 3.70000000e-01,\n",
       "       3.68333333e-01, 3.66666667e-01, 3.65000000e-01, 3.63333333e-01,\n",
       "       3.61666667e-01, 3.60000000e-01, 3.58333333e-01, 3.56666667e-01,\n",
       "       3.55000000e-01, 3.53333333e-01, 3.51666667e-01, 3.50000000e-01,\n",
       "       3.48333333e-01, 3.46666667e-01, 3.45000000e-01, 3.43333333e-01,\n",
       "       3.41666667e-01, 3.40000000e-01, 3.36666667e-01, 3.35000000e-01,\n",
       "       3.33333333e-01, 3.30000000e-01, 3.28333333e-01, 3.25000000e-01,\n",
       "       3.23333333e-01, 3.21666667e-01, 3.20000000e-01, 3.16666667e-01,\n",
       "       3.15000000e-01, 3.13333333e-01, 3.11666667e-01, 3.10000000e-01,\n",
       "       3.08333333e-01, 3.06666667e-01, 3.05000000e-01, 3.03333333e-01,\n",
       "       3.01666667e-01, 3.00000000e-01, 2.98333333e-01, 2.95000000e-01,\n",
       "       2.93333333e-01, 2.91666667e-01, 2.90000000e-01, 2.88333333e-01,\n",
       "       2.86666667e-01, 2.85000000e-01, 2.83333333e-01, 2.81666667e-01,\n",
       "       2.80000000e-01, 2.76666667e-01, 2.75000000e-01, 2.73333333e-01,\n",
       "       2.71666667e-01, 2.70000000e-01, 2.68333333e-01, 2.65000000e-01,\n",
       "       2.63333333e-01, 2.61666667e-01, 2.60000000e-01, 2.58333333e-01,\n",
       "       2.56666667e-01, 2.55000000e-01, 2.51666667e-01, 2.50000000e-01,\n",
       "       2.48333333e-01, 2.46666667e-01, 2.45000000e-01, 2.43333333e-01,\n",
       "       2.41666667e-01, 2.40000000e-01, 2.38333333e-01, 2.36666667e-01,\n",
       "       2.35000000e-01, 2.33333333e-01, 2.31666667e-01, 2.30000000e-01,\n",
       "       2.28333333e-01, 2.26666667e-01, 2.25000000e-01, 2.23333333e-01,\n",
       "       2.21666667e-01, 2.20000000e-01, 2.18333333e-01, 2.16666667e-01,\n",
       "       2.15000000e-01, 2.13333333e-01, 2.11666667e-01, 2.10000000e-01,\n",
       "       2.08333333e-01, 2.06666667e-01, 2.05000000e-01, 2.03333333e-01,\n",
       "       2.01666667e-01, 2.00000000e-01, 1.98333333e-01, 1.95000000e-01,\n",
       "       1.93333333e-01, 1.91666667e-01, 1.86666667e-01, 1.85000000e-01,\n",
       "       1.83333333e-01, 1.81666667e-01, 1.80000000e-01, 1.78333333e-01,\n",
       "       1.76666667e-01, 1.75000000e-01, 1.73333333e-01, 1.71666667e-01,\n",
       "       1.68333333e-01, 1.66666667e-01, 1.65000000e-01, 1.63333333e-01,\n",
       "       1.61666667e-01, 1.60000000e-01, 1.58333333e-01, 1.56666667e-01,\n",
       "       1.55000000e-01, 1.53333333e-01, 1.51666667e-01, 1.50000000e-01,\n",
       "       1.48333333e-01, 1.46666667e-01, 1.45000000e-01, 1.43333333e-01,\n",
       "       1.41666667e-01, 1.40000000e-01, 1.38333333e-01, 1.36666667e-01,\n",
       "       1.35000000e-01, 1.33333333e-01, 1.31666667e-01, 1.30000000e-01,\n",
       "       1.28333333e-01, 1.26666667e-01, 1.25000000e-01, 1.23333333e-01,\n",
       "       1.21666667e-01, 1.20000000e-01, 1.18333333e-01, 1.16666667e-01,\n",
       "       1.15000000e-01, 1.13333333e-01, 1.11666667e-01, 1.10000000e-01,\n",
       "       1.08333333e-01, 1.06666667e-01, 1.05000000e-01, 1.03333333e-01,\n",
       "       1.01666667e-01, 1.00000000e-01, 9.83333333e-02, 9.66666667e-02,\n",
       "       9.50000000e-02, 9.33333333e-02, 9.16666667e-02, 9.00000000e-02,\n",
       "       8.83333333e-02, 8.66666667e-02, 8.50000000e-02, 8.33333333e-02,\n",
       "       8.16666667e-02, 8.00000000e-02, 7.83333333e-02, 7.66666667e-02,\n",
       "       7.50000000e-02, 7.33333333e-02, 7.00000000e-02, 6.83333333e-02,\n",
       "       6.66666667e-02, 6.50000000e-02, 6.16666667e-02, 6.00000000e-02,\n",
       "       5.66666667e-02, 5.50000000e-02, 5.33333333e-02, 5.16666667e-02,\n",
       "       5.00000000e-02, 4.83333333e-02, 4.66666667e-02, 4.50000000e-02,\n",
       "       4.33333333e-02, 4.16666667e-02, 4.00000000e-02, 3.83333333e-02,\n",
       "       3.66666667e-02, 3.50000000e-02, 3.33333333e-02, 3.16666667e-02,\n",
       "       3.00000000e-02, 2.83333333e-02, 2.66666667e-02, 2.50000000e-02,\n",
       "       2.33333333e-02, 2.16666667e-02, 2.00000000e-02, 1.83333333e-02,\n",
       "       1.66666667e-02, 1.50000000e-02, 1.33333333e-02, 1.16666667e-02,\n",
       "       1.00000000e-02, 8.33333333e-03, 6.66666667e-03, 5.00000000e-03,\n",
       "       3.33333333e-03, 1.66666667e-03, 0.00000000e+00])"
      ]
     },
     "execution_count": 101,
     "metadata": {},
     "output_type": "execute_result"
    }
   ],
   "source": [
    "thresholds"
   ]
  },
  {
   "cell_type": "code",
   "execution_count": 102,
   "id": "e2089675",
   "metadata": {},
   "outputs": [
    {
     "data": {
      "image/png": "[encoded data removed]",
      "text/plain": [
       "<Figure size 432x288 with 1 Axes>"
      ]
     },
     "metadata": {
      "needs_background": "light"
     },
     "output_type": "display_data"
    }
   ],
   "source": [
    "plt.plot([0,1],[0,1],'k--')\n",
    "plt.plot(fpr,tpr)\n",
    "plt.xlabel('False Positive Rate')\n",
    "plt.ylabel('True Positive Rate')\n",
    "plt.title('Random Forest Classifier')\n",
    "plt.show()"
   ]
  },
  {
   "cell_type": "code",
   "execution_count": 104,
   "id": "a87715d7",
   "metadata": {},
   "outputs": [
    {
     "data": {
      "text/plain": [
       "['Customer_Churn_rf.pkl']"
      ]
     },
     "execution_count": 104,
     "metadata": {},
     "output_type": "execute_result"
    }
   ],
   "source": [
    "import joblib\n",
    "joblib.dump(Final_Model,'Customer_Churn_rf.pkl')"
   ]
  },
  {
   "cell_type": "code",
   "execution_count": 105,
   "id": "3395057f",
   "metadata": {},
   "outputs": [
    {
     "data": {
      "text/plain": [
       "<AxesSubplot:>"
      ]
     },
     "execution_count": 105,
     "metadata": {},
     "output_type": "execute_result"
    },
    {
     "data": {
      "image/png": "[encoded data removed]",
      "text/plain": [
       "<Figure size 576x576 with 1 Axes>"
      ]
     },
     "metadata": {
      "needs_background": "light"
     },
     "output_type": "display_data"
    }
   ],
   "source": [
    "#Checking Feature Importance with Random Forest Model\n",
    "\n",
    "feat_importances = pd.Series(Final_Model.feature_importances_, index=x.columns)\n",
    "feat_importances.nlargest(100).plot(kind='barh',figsize=(8,8))"
   ]
  },
  {
   "cell_type": "code",
   "execution_count": 106,
   "id": "07d77311",
   "metadata": {},
   "outputs": [
    {
     "data": {
      "text/plain": [
       "array([0., 1., 0., ..., 1., 1., 0.])"
      ]
     },
     "execution_count": 106,
     "metadata": {},
     "output_type": "execute_result"
    }
   ],
   "source": [
    "# Loading the saved model\n",
    "model=joblib.load(\"Customer_Churn_rf.pkl\")\n",
    "\n",
    "#Prediction\n",
    "prediction = model.predict(x_test)\n",
    "prediction"
   ]
  },
  {
   "cell_type": "code",
   "execution_count": 107,
   "id": "769df78e",
   "metadata": {},
   "outputs": [
    {
     "data": {
      "text/html": [
       "<div>\n",
       "<style scoped>\n",
       "    .dataframe tbody tr th:only-of-type {\n",
       "        vertical-align: middle;\n",
       "    }\n",
       "\n",
       "    .dataframe tbody tr th {\n",
       "        vertical-align: top;\n",
       "    }\n",
       "\n",
       "    .dataframe thead th {\n",
       "        text-align: right;\n",
       "    }\n",
       "</style>\n",
       "<table border=\"1\" class=\"dataframe\">\n",
       "  <thead>\n",
       "    <tr style=\"text-align: right;\">\n",
       "      <th></th>\n",
       "      <th>actual</th>\n",
       "      <th>predictions</th>\n",
       "    </tr>\n",
       "  </thead>\n",
       "  <tbody>\n",
       "    <tr>\n",
       "      <th>3929</th>\n",
       "      <td>0.0</td>\n",
       "      <td>0.0</td>\n",
       "    </tr>\n",
       "    <tr>\n",
       "      <th>9287</th>\n",
       "      <td>1.0</td>\n",
       "      <td>1.0</td>\n",
       "    </tr>\n",
       "    <tr>\n",
       "      <th>602</th>\n",
       "      <td>0.0</td>\n",
       "      <td>0.0</td>\n",
       "    </tr>\n",
       "    <tr>\n",
       "      <th>7135</th>\n",
       "      <td>1.0</td>\n",
       "      <td>1.0</td>\n",
       "    </tr>\n",
       "    <tr>\n",
       "      <th>7365</th>\n",
       "      <td>1.0</td>\n",
       "      <td>1.0</td>\n",
       "    </tr>\n",
       "    <tr>\n",
       "      <th>...</th>\n",
       "      <td>...</td>\n",
       "      <td>...</td>\n",
       "    </tr>\n",
       "    <tr>\n",
       "      <th>5540</th>\n",
       "      <td>1.0</td>\n",
       "      <td>1.0</td>\n",
       "    </tr>\n",
       "    <tr>\n",
       "      <th>2853</th>\n",
       "      <td>0.0</td>\n",
       "      <td>0.0</td>\n",
       "    </tr>\n",
       "    <tr>\n",
       "      <th>9373</th>\n",
       "      <td>1.0</td>\n",
       "      <td>1.0</td>\n",
       "    </tr>\n",
       "    <tr>\n",
       "      <th>4139</th>\n",
       "      <td>0.0</td>\n",
       "      <td>1.0</td>\n",
       "    </tr>\n",
       "    <tr>\n",
       "      <th>4979</th>\n",
       "      <td>0.0</td>\n",
       "      <td>0.0</td>\n",
       "    </tr>\n",
       "  </tbody>\n",
       "</table>\n",
       "<p>3105 rows × 2 columns</p>\n",
       "</div>"
      ],
      "text/plain": [
       "      actual  predictions\n",
       "3929     0.0          0.0\n",
       "9287     1.0          1.0\n",
       "602      0.0          0.0\n",
       "7135     1.0          1.0\n",
       "7365     1.0          1.0\n",
       "...      ...          ...\n",
       "5540     1.0          1.0\n",
       "2853     0.0          0.0\n",
       "9373     1.0          1.0\n",
       "4139     0.0          1.0\n",
       "4979     0.0          0.0\n",
       "\n",
       "[3105 rows x 2 columns]"
      ]
     },
     "execution_count": 107,
     "metadata": {},
     "output_type": "execute_result"
    }
   ],
   "source": [
    "#saving as dataframe\n",
    "\n",
    "base = pd.DataFrame()\n",
    "base[\"actual\"] = y_test\n",
    "base[\"predictions\"] = prediction\n",
    "base"
   ]
  },
  {
   "cell_type": "code",
   "execution_count": 108,
   "id": "32d42298",
   "metadata": {},
   "outputs": [
    {
     "name": "stdout",
     "output_type": "stream",
     "text": [
      " 0.0    2695\n",
      " 1.0     227\n",
      "-1.0     183\n",
      "Name: difference, dtype: int64\n"
     ]
    }
   ],
   "source": [
    "#Adding another column of thier difference. \n",
    "\n",
    "base['difference']=base['actual']-base['predictions']\n",
    "\n",
    "#If 0 then actual and predicted are same. else its different\n",
    "\n",
    "print(base['difference'].value_counts())"
   ]
  },
  {
   "cell_type": "code",
   "execution_count": 109,
   "id": "e0435e91",
   "metadata": {},
   "outputs": [
    {
     "data": {
      "text/plain": [
       "15.5994043186895"
      ]
     },
     "execution_count": 109,
     "metadata": {},
     "output_type": "execute_result"
    }
   ],
   "source": [
    "a=(419/2686)*100\n",
    "a"
   ]
  },
  {
   "cell_type": "markdown",
   "id": "f7957726",
   "metadata": {},
   "source": [
    "have 15% error with this model."
   ]
  },
  {
   "cell_type": "markdown",
   "id": "3497a337",
   "metadata": {},
   "source": [
    "# The end"
   ]
  },
  {
   "cell_type": "code",
   "execution_count": null,
   "id": "e3d36aa5",
   "metadata": {},
   "outputs": [],
   "source": []
  }
 ],
 "metadata": {
  "kernelspec": {
   "display_name": "Python 3 (ipykernel)",
   "language": "python",
   "name": "python3"
  },
  "language_info": {
   "codemirror_mode": {
    "name": "ipython",
    "version": 3
   },
   "file_extension": ".py",
   "mimetype": "text/x-python",
   "name": "python",
   "nbconvert_exporter": "python",
   "pygments_lexer": "ipython3",
   "version": "3.9.7"
  }
 },
 "nbformat": 4,
 "nbformat_minor": 5
}
